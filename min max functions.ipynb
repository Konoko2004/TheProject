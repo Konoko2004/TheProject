{
  "nbformat": 4,
  "nbformat_minor": 0,
  "metadata": {
    "colab": {
      "name": "Untitled3.ipynb",
      "provenance": [],
      "authorship_tag": "ABX9TyMB/hUuXCG9cCYnpDeIVz3w",
      "include_colab_link": true
    },
    "kernelspec": {
      "name": "python3",
      "display_name": "Python 3"
    },
    "language_info": {
      "name": "python"
    }
  },
  "cells": [
    {
      "cell_type": "markdown",
      "metadata": {
        "id": "view-in-github",
        "colab_type": "text"
      },
      "source": [
        "<a href=\"https://colab.research.google.com/github/Konoko2004/TheProject/blob/main/min%20max%20functions.ipynb\" target=\"_parent\"><img src=\"https://colab.research.google.com/assets/colab-badge.svg\" alt=\"Open In Colab\"/></a>"
      ]
    },
    {
      "cell_type": "code",
      "metadata": {
        "colab": {
          "base_uri": "https://localhost:8080/"
        },
        "id": "phnVqEGwAfkK",
        "outputId": "0c84d2fe-824c-4b72-9bfa-e4214991731e"
      },
      "source": [
        "#min() and max()\n",
        "\n",
        "Country = ['SG','MY','US','KR','JP','CN']\n",
        "Population = [7_000_000,11_000_000,200_000_000,16_000_000,20_000_000,700_000_000]\n",
        "\n",
        "zipped_list = list(zip(Country,Population))\n",
        "zipped_list\n",
        "\n",
        "\n",
        "#We want to return the min/nax population \n",
        "\n",
        "\n",
        "\n",
        "\n",
        "####method 1 Create function and use in key attribute####\n",
        "\n",
        "def get_population(asd):\n",
        "  country, pop = asd\n",
        "  return pop\n",
        "\n",
        "min(zip(Country,Population),key = get_population)\n",
        "\n",
        "\n",
        "####method 2 use lambda in key attribute####\n",
        "\n",
        "min(zip(Country,Population), key = lambda x : x[1])"
      ],
      "execution_count": 6,
      "outputs": [
        {
          "output_type": "execute_result",
          "data": {
            "text/plain": [
              "('SG', 7000000)"
            ]
          },
          "metadata": {
            "tags": []
          },
          "execution_count": 6
        }
      ]
    }
  ]
}