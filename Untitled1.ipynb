{
  "nbformat": 4,
  "nbformat_minor": 0,
  "metadata": {
    "colab": {
      "name": "Untitled1.ipynb",
      "provenance": [],
      "authorship_tag": "ABX9TyMWRG8qdcBm3miohyoE6AHK",
      "include_colab_link": true
    },
    "kernelspec": {
      "name": "python3",
      "display_name": "Python 3"
    },
    "language_info": {
      "name": "python"
    }
  },
  "cells": [
    {
      "cell_type": "markdown",
      "metadata": {
        "id": "view-in-github",
        "colab_type": "text"
      },
      "source": [
        "<a href=\"https://colab.research.google.com/github/Konoko2004/TheProject/blob/main/Untitled1.ipynb\" target=\"_parent\"><img src=\"https://colab.research.google.com/assets/colab-badge.svg\" alt=\"Open In Colab\"/></a>"
      ]
    },
    {
      "cell_type": "code",
      "metadata": {
        "id": "0jFVKZxxfQ1E"
      },
      "source": [
        "import pandas as pd\n",
        "url = 'https://raw.githubusercontent.com/Konoko2004/TheProject/main/portfolios.csv'\n",
        "Portfolio = pd.read_csv(url)\n",
        "\n",
        "url2 = 'https://raw.githubusercontent.com/Konoko2004/TheProject/main/raw_price_data.csv'\n",
        "\n",
        "PriceData = pd.read_csv(url2)\n"
      ],
      "execution_count": 7,
      "outputs": []
    },
    {
      "cell_type": "code",
      "metadata": {
        "colab": {
          "base_uri": "https://localhost:8080/",
          "height": 204
        },
        "id": "6DOHlSv_gJCC",
        "outputId": "14155326-7b81-4217-9e94-af9f6c7acff7"
      },
      "source": [
        "Portfolio.head()\n"
      ],
      "execution_count": 10,
      "outputs": [
        {
          "output_type": "execute_result",
          "data": {
            "text/html": [
              "<div>\n",
              "<style scoped>\n",
              "    .dataframe tbody tr th:only-of-type {\n",
              "        vertical-align: middle;\n",
              "    }\n",
              "\n",
              "    .dataframe tbody tr th {\n",
              "        vertical-align: top;\n",
              "    }\n",
              "\n",
              "    .dataframe thead th {\n",
              "        text-align: right;\n",
              "    }\n",
              "</style>\n",
              "<table border=\"1\" class=\"dataframe\">\n",
              "  <thead>\n",
              "    <tr style=\"text-align: right;\">\n",
              "      <th></th>\n",
              "      <th>id</th>\n",
              "      <th>initial_invt</th>\n",
              "      <th>monthly_invt</th>\n",
              "      <th>x_1</th>\n",
              "      <th>x_2</th>\n",
              "      <th>x_3</th>\n",
              "      <th>x_4</th>\n",
              "      <th>x_5</th>\n",
              "      <th>x_6</th>\n",
              "      <th>x_7</th>\n",
              "      <th>w_1</th>\n",
              "      <th>w_2</th>\n",
              "      <th>w_3</th>\n",
              "      <th>w_4</th>\n",
              "      <th>w_5</th>\n",
              "      <th>w_6</th>\n",
              "      <th>w_7</th>\n",
              "      <th>PC Date</th>\n",
              "    </tr>\n",
              "  </thead>\n",
              "  <tbody>\n",
              "    <tr>\n",
              "      <th>0</th>\n",
              "      <td>1</td>\n",
              "      <td>2100</td>\n",
              "      <td>410</td>\n",
              "      <td>NYSEARCA:RYE</td>\n",
              "      <td>NYSEARCA:XOP</td>\n",
              "      <td>NYSEARCA:PXE</td>\n",
              "      <td>NYSEARCA:VAW</td>\n",
              "      <td>NYSEARCA:PYZ</td>\n",
              "      <td>NaN</td>\n",
              "      <td>NaN</td>\n",
              "      <td>0.455010</td>\n",
              "      <td>0.263217</td>\n",
              "      <td>0.028960</td>\n",
              "      <td>0.102652</td>\n",
              "      <td>0.150161</td>\n",
              "      <td>NaN</td>\n",
              "      <td>NaN</td>\n",
              "      <td>2008-04-14</td>\n",
              "    </tr>\n",
              "    <tr>\n",
              "      <th>1</th>\n",
              "      <td>2</td>\n",
              "      <td>5200</td>\n",
              "      <td>310</td>\n",
              "      <td>NYSEARCA:XOP</td>\n",
              "      <td>NYSEARCA:XES</td>\n",
              "      <td>NYSEARCA:VAW</td>\n",
              "      <td>NaN</td>\n",
              "      <td>NaN</td>\n",
              "      <td>NaN</td>\n",
              "      <td>NaN</td>\n",
              "      <td>0.541296</td>\n",
              "      <td>0.189735</td>\n",
              "      <td>0.268970</td>\n",
              "      <td>NaN</td>\n",
              "      <td>NaN</td>\n",
              "      <td>NaN</td>\n",
              "      <td>NaN</td>\n",
              "      <td>2009-03-12</td>\n",
              "    </tr>\n",
              "    <tr>\n",
              "      <th>2</th>\n",
              "      <td>3</td>\n",
              "      <td>5800</td>\n",
              "      <td>430</td>\n",
              "      <td>NYSEARCA:XOP</td>\n",
              "      <td>NYSEARCA:PXJ</td>\n",
              "      <td>NYSEARCA:IYM</td>\n",
              "      <td>NYSEARCA:JKH</td>\n",
              "      <td>NaN</td>\n",
              "      <td>NaN</td>\n",
              "      <td>NaN</td>\n",
              "      <td>0.488191</td>\n",
              "      <td>0.262605</td>\n",
              "      <td>0.067123</td>\n",
              "      <td>0.182081</td>\n",
              "      <td>NaN</td>\n",
              "      <td>NaN</td>\n",
              "      <td>NaN</td>\n",
              "      <td>2008-07-16</td>\n",
              "    </tr>\n",
              "    <tr>\n",
              "      <th>3</th>\n",
              "      <td>4</td>\n",
              "      <td>1600</td>\n",
              "      <td>460</td>\n",
              "      <td>NYSEARCA:XES</td>\n",
              "      <td>NYSEARCA:PXI</td>\n",
              "      <td>NYSEARCA:VAW</td>\n",
              "      <td>NYSEARCA:PYZ</td>\n",
              "      <td>NaN</td>\n",
              "      <td>NaN</td>\n",
              "      <td>NaN</td>\n",
              "      <td>0.417128</td>\n",
              "      <td>0.484994</td>\n",
              "      <td>0.029230</td>\n",
              "      <td>0.068648</td>\n",
              "      <td>NaN</td>\n",
              "      <td>NaN</td>\n",
              "      <td>NaN</td>\n",
              "      <td>2009-04-26</td>\n",
              "    </tr>\n",
              "    <tr>\n",
              "      <th>4</th>\n",
              "      <td>5</td>\n",
              "      <td>17600</td>\n",
              "      <td>4520</td>\n",
              "      <td>NYSEARCA:XOP</td>\n",
              "      <td>NYSEARCA:VDE</td>\n",
              "      <td>NYSEARCA:EWC</td>\n",
              "      <td>NYSEARCA:FVL</td>\n",
              "      <td>NaN</td>\n",
              "      <td>NaN</td>\n",
              "      <td>NaN</td>\n",
              "      <td>0.461549</td>\n",
              "      <td>0.303630</td>\n",
              "      <td>0.228779</td>\n",
              "      <td>0.006043</td>\n",
              "      <td>NaN</td>\n",
              "      <td>NaN</td>\n",
              "      <td>NaN</td>\n",
              "      <td>2008-04-25</td>\n",
              "    </tr>\n",
              "  </tbody>\n",
              "</table>\n",
              "</div>"
            ],
            "text/plain": [
              "   id  initial_invt  monthly_invt           x_1  ...       w_5 w_6 w_7     PC Date\n",
              "0   1          2100           410  NYSEARCA:RYE  ...  0.150161 NaN NaN  2008-04-14\n",
              "1   2          5200           310  NYSEARCA:XOP  ...       NaN NaN NaN  2009-03-12\n",
              "2   3          5800           430  NYSEARCA:XOP  ...       NaN NaN NaN  2008-07-16\n",
              "3   4          1600           460  NYSEARCA:XES  ...       NaN NaN NaN  2009-04-26\n",
              "4   5         17600          4520  NYSEARCA:XOP  ...       NaN NaN NaN  2008-04-25\n",
              "\n",
              "[5 rows x 18 columns]"
            ]
          },
          "metadata": {
            "tags": []
          },
          "execution_count": 10
        }
      ]
    },
    {
      "cell_type": "code",
      "metadata": {
        "colab": {
          "base_uri": "https://localhost:8080/"
        },
        "id": "NaAxAlUHnfpa",
        "outputId": "feb69420-36bb-40c5-92c8-ca5731f244bb"
      },
      "source": [
        "Portfolio.loc[[1,5],[\"w_1\",\"w_2\"]].sum(axis=1)"
      ],
      "execution_count": 24,
      "outputs": [
        {
          "output_type": "execute_result",
          "data": {
            "text/plain": [
              "1    0.731030\n",
              "5    0.871376\n",
              "dtype: float64"
            ]
          },
          "metadata": {
            "tags": []
          },
          "execution_count": 24
        }
      ]
    },
    {
      "cell_type": "code",
      "metadata": {
        "colab": {
          "base_uri": "https://localhost:8080/"
        },
        "id": "ZqPJcPD6jYVL",
        "outputId": "55517924-d8e2-4b6e-95bc-f5506c023a77"
      },
      "source": [
        "Portfolio[['w_1','w_2','w_3','w_4','w_5','w_6','w_7']].sum(axis=1)"
      ],
      "execution_count": 16,
      "outputs": [
        {
          "output_type": "execute_result",
          "data": {
            "text/plain": [
              "0       1.0\n",
              "1       1.0\n",
              "2       1.0\n",
              "3       1.0\n",
              "4       1.0\n",
              "       ... \n",
              "4995    1.0\n",
              "4996    1.0\n",
              "4997    1.0\n",
              "4998    1.0\n",
              "4999    1.0\n",
              "Length: 5000, dtype: float64"
            ]
          },
          "metadata": {
            "tags": []
          },
          "execution_count": 16
        }
      ]
    }
  ]
}