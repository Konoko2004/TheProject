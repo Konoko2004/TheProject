{
  "nbformat": 4,
  "nbformat_minor": 0,
  "metadata": {
    "colab": {
      "name": "imdb playbook.ipynb",
      "provenance": [],
      "collapsed_sections": [],
      "authorship_tag": "ABX9TyN03xPlPRwxam18YB0h4wGb",
      "include_colab_link": true
    },
    "kernelspec": {
      "name": "python3",
      "display_name": "Python 3"
    },
    "language_info": {
      "name": "python"
    }
  },
  "cells": [
    {
      "cell_type": "markdown",
      "metadata": {
        "id": "view-in-github",
        "colab_type": "text"
      },
      "source": [
        "<a href=\"https://colab.research.google.com/github/Konoko2004/TheProject/blob/main/imdb_playbook.ipynb\" target=\"_parent\"><img src=\"https://colab.research.google.com/assets/colab-badge.svg\" alt=\"Open In Colab\"/></a>"
      ]
    },
    {
      "cell_type": "code",
      "metadata": {
        "id": "pyFfFRN7FCt4"
      },
      "source": [
        "import pandas as pd\n",
        "import numpy as np\n"
      ],
      "execution_count": 5,
      "outputs": []
    },
    {
      "cell_type": "code",
      "metadata": {
        "id": "T3A9pTeHFEzj",
        "colab": {
          "base_uri": "https://localhost:8080/",
          "height": 422
        },
        "outputId": "a7e81907-eab8-42b1-f980-e677e1cbf6bc"
      },
      "source": [
        "new_df = pd.read_csv(\"https://raw.githubusercontent.com/Konoko2004/TheProject/main/IMDB_movie_reviews_details.csv\")\n",
        "new_df"
      ],
      "execution_count": 6,
      "outputs": [
        {
          "output_type": "execute_result",
          "data": {
            "text/html": [
              "<div>\n",
              "<style scoped>\n",
              "    .dataframe tbody tr th:only-of-type {\n",
              "        vertical-align: middle;\n",
              "    }\n",
              "\n",
              "    .dataframe tbody tr th {\n",
              "        vertical-align: top;\n",
              "    }\n",
              "\n",
              "    .dataframe thead th {\n",
              "        text-align: right;\n",
              "    }\n",
              "</style>\n",
              "<table border=\"1\" class=\"dataframe\">\n",
              "  <thead>\n",
              "    <tr style=\"text-align: right;\">\n",
              "      <th></th>\n",
              "      <th>Unnamed: 0</th>\n",
              "      <th>name</th>\n",
              "      <th>year</th>\n",
              "      <th>runtime</th>\n",
              "      <th>genre</th>\n",
              "      <th>rating</th>\n",
              "      <th>metascore</th>\n",
              "      <th>timeline</th>\n",
              "      <th>votes</th>\n",
              "      <th>gross</th>\n",
              "    </tr>\n",
              "  </thead>\n",
              "  <tbody>\n",
              "    <tr>\n",
              "      <th>0</th>\n",
              "      <td>0</td>\n",
              "      <td>The Shawshank Redemption</td>\n",
              "      <td>1994</td>\n",
              "      <td>142</td>\n",
              "      <td>Drama</td>\n",
              "      <td>9.3</td>\n",
              "      <td>80.0</td>\n",
              "      <td>Two imprisoned men bond over a number of years...</td>\n",
              "      <td>2,394,059</td>\n",
              "      <td>$28.34M</td>\n",
              "    </tr>\n",
              "    <tr>\n",
              "      <th>1</th>\n",
              "      <td>1</td>\n",
              "      <td>The Godfather</td>\n",
              "      <td>1972</td>\n",
              "      <td>175</td>\n",
              "      <td>Crime, Drama</td>\n",
              "      <td>9.2</td>\n",
              "      <td>100.0</td>\n",
              "      <td>An organized crime dynasty's aging patriarch t...</td>\n",
              "      <td>1,658,439</td>\n",
              "      <td>$134.97M</td>\n",
              "    </tr>\n",
              "    <tr>\n",
              "      <th>2</th>\n",
              "      <td>2</td>\n",
              "      <td>Soorarai Pottru</td>\n",
              "      <td>2020</td>\n",
              "      <td>153</td>\n",
              "      <td>Drama</td>\n",
              "      <td>9.1</td>\n",
              "      <td>NaN</td>\n",
              "      <td>Nedumaaran Rajangam \"Maara\" sets out to make t...</td>\n",
              "      <td>78,266</td>\n",
              "      <td>NaN</td>\n",
              "    </tr>\n",
              "    <tr>\n",
              "      <th>3</th>\n",
              "      <td>3</td>\n",
              "      <td>The Dark Knight</td>\n",
              "      <td>2008</td>\n",
              "      <td>152</td>\n",
              "      <td>Action, Crime, Drama</td>\n",
              "      <td>9.0</td>\n",
              "      <td>84.0</td>\n",
              "      <td>When the menace known as the Joker wreaks havo...</td>\n",
              "      <td>2,355,907</td>\n",
              "      <td>$534.86M</td>\n",
              "    </tr>\n",
              "    <tr>\n",
              "      <th>4</th>\n",
              "      <td>4</td>\n",
              "      <td>The Godfather: Part II</td>\n",
              "      <td>1974</td>\n",
              "      <td>202</td>\n",
              "      <td>Crime, Drama</td>\n",
              "      <td>9.0</td>\n",
              "      <td>90.0</td>\n",
              "      <td>The early life and career of Vito Corleone in ...</td>\n",
              "      <td>1,152,912</td>\n",
              "      <td>$57.30M</td>\n",
              "    </tr>\n",
              "    <tr>\n",
              "      <th>...</th>\n",
              "      <td>...</td>\n",
              "      <td>...</td>\n",
              "      <td>...</td>\n",
              "      <td>...</td>\n",
              "      <td>...</td>\n",
              "      <td>...</td>\n",
              "      <td>...</td>\n",
              "      <td>...</td>\n",
              "      <td>...</td>\n",
              "      <td>...</td>\n",
              "    </tr>\n",
              "    <tr>\n",
              "      <th>995</th>\n",
              "      <td>995</td>\n",
              "      <td>Breakfast at Tiffany's</td>\n",
              "      <td>1961</td>\n",
              "      <td>115</td>\n",
              "      <td>Comedy, Drama, Romance</td>\n",
              "      <td>7.6</td>\n",
              "      <td>76.0</td>\n",
              "      <td>A young New York socialite becomes interested ...</td>\n",
              "      <td>169,575</td>\n",
              "      <td>NaN</td>\n",
              "    </tr>\n",
              "    <tr>\n",
              "      <th>996</th>\n",
              "      <td>996</td>\n",
              "      <td>Giant</td>\n",
              "      <td>1956</td>\n",
              "      <td>201</td>\n",
              "      <td>Drama, Western</td>\n",
              "      <td>7.6</td>\n",
              "      <td>84.0</td>\n",
              "      <td>Sprawling epic covering the life of a Texas ca...</td>\n",
              "      <td>34,759</td>\n",
              "      <td>NaN</td>\n",
              "    </tr>\n",
              "    <tr>\n",
              "      <th>997</th>\n",
              "      <td>997</td>\n",
              "      <td>Shane</td>\n",
              "      <td>1953</td>\n",
              "      <td>118</td>\n",
              "      <td>Drama, Western</td>\n",
              "      <td>7.6</td>\n",
              "      <td>80.0</td>\n",
              "      <td>A weary gunfighter attempts to settle down wit...</td>\n",
              "      <td>37,753</td>\n",
              "      <td>$20.00M</td>\n",
              "    </tr>\n",
              "    <tr>\n",
              "      <th>998</th>\n",
              "      <td>998</td>\n",
              "      <td>From Here to Eternity</td>\n",
              "      <td>1953</td>\n",
              "      <td>118</td>\n",
              "      <td>Drama, Romance, War</td>\n",
              "      <td>7.6</td>\n",
              "      <td>85.0</td>\n",
              "      <td>In Hawaii in 1941, a private is cruelly punish...</td>\n",
              "      <td>44,086</td>\n",
              "      <td>$30.50M</td>\n",
              "    </tr>\n",
              "    <tr>\n",
              "      <th>999</th>\n",
              "      <td>999</td>\n",
              "      <td>Lifeboat</td>\n",
              "      <td>1944</td>\n",
              "      <td>97</td>\n",
              "      <td>Drama, War</td>\n",
              "      <td>7.6</td>\n",
              "      <td>78.0</td>\n",
              "      <td>Several survivors of a torpedoed merchant ship...</td>\n",
              "      <td>26,903</td>\n",
              "      <td>NaN</td>\n",
              "    </tr>\n",
              "  </tbody>\n",
              "</table>\n",
              "<p>1000 rows × 10 columns</p>\n",
              "</div>"
            ],
            "text/plain": [
              "     Unnamed: 0                      name  ...      votes     gross\n",
              "0             0  The Shawshank Redemption  ...  2,394,059   $28.34M\n",
              "1             1             The Godfather  ...  1,658,439  $134.97M\n",
              "2             2           Soorarai Pottru  ...     78,266       NaN\n",
              "3             3           The Dark Knight  ...  2,355,907  $534.86M\n",
              "4             4    The Godfather: Part II  ...  1,152,912   $57.30M\n",
              "..          ...                       ...  ...        ...       ...\n",
              "995         995    Breakfast at Tiffany's  ...    169,575       NaN\n",
              "996         996                     Giant  ...     34,759       NaN\n",
              "997         997                     Shane  ...     37,753   $20.00M\n",
              "998         998     From Here to Eternity  ...     44,086   $30.50M\n",
              "999         999                  Lifeboat  ...     26,903       NaN\n",
              "\n",
              "[1000 rows x 10 columns]"
            ]
          },
          "metadata": {
            "tags": []
          },
          "execution_count": 6
        }
      ]
    },
    {
      "cell_type": "code",
      "metadata": {
        "id": "-sOExgrnxGqX"
      },
      "source": [
        "\n",
        "# checks for problematic data\n",
        "def count_missing(vector):\n",
        "\n",
        "  null_vec = pd.isnull(vector)\n",
        "  return np.sum(null_vec)\n",
        "\n",
        "def prop_missing(vec):\n",
        "  num = count_missing(vec)\n",
        "\n",
        "  denominator = vec.size\n",
        "\n",
        "  return num / denominator\n",
        "\n",
        "def prop_complete(vector):\n",
        "  \n",
        "  return 1 - prop_missing(vector)"
      ],
      "execution_count": null,
      "outputs": []
    },
    {
      "cell_type": "code",
      "metadata": {
        "id": "4gPFfJV1y90B",
        "colab": {
          "base_uri": "https://localhost:8080/"
        },
        "outputId": "a4275238-9ddc-413d-e830-842dcfd9d51f"
      },
      "source": [
        "new_df.apply(count_missing)\n",
        "new_df.apply(prop_missing)\n",
        "new_df.apply(prop_complete)"
      ],
      "execution_count": null,
      "outputs": [
        {
          "output_type": "execute_result",
          "data": {
            "text/plain": [
              "Unnamed: 0    1.000\n",
              "name          1.000\n",
              "year          1.000\n",
              "runtime       1.000\n",
              "genre         1.000\n",
              "rating        1.000\n",
              "metascore     0.841\n",
              "timeline      1.000\n",
              "votes         1.000\n",
              "gross         0.829\n",
              "dtype: float64"
            ]
          },
          "metadata": {
            "tags": []
          },
          "execution_count": 9
        }
      ]
    },
    {
      "cell_type": "code",
      "metadata": {
        "id": "8nFoEfTE2CEH",
        "colab": {
          "base_uri": "https://localhost:8080/"
        },
        "outputId": "6a12b2ed-88f7-484c-b0dc-9bd0dc026163"
      },
      "source": [
        "#Rows with Null values in \"gross\" column.\n",
        "new_df.loc[pd.isnull(new_df['gross']),:]\n",
        "\n",
        "no_nan_df = new_df.dropna()\n",
        "no_nan_df\n",
        "\n",
        "proper_df = no_nan_df.set_index(['year'])\n",
        "proper_df['metascore'].rolling(window = 5).apply(lambda x : np.sum(x))            # this is a moving sum of past 5 metascores.\n"
      ],
      "execution_count": null,
      "outputs": [
        {
          "output_type": "execute_result",
          "data": {
            "text/plain": [
              "year\n",
              "1994      NaN\n",
              "1972      NaN\n",
              "2008      NaN\n",
              "1974      NaN\n",
              "1957    450.0\n",
              "        ...  \n",
              "1970    380.0\n",
              "1967    369.0\n",
              "1964    375.0\n",
              "1953    368.0\n",
              "1953    376.0\n",
              "Name: metascore, Length: 747, dtype: float64"
            ]
          },
          "metadata": {
            "tags": []
          },
          "execution_count": 34
        }
      ]
    },
    {
      "cell_type": "code",
      "metadata": {
        "colab": {
          "base_uri": "https://localhost:8080/",
          "height": 112
        },
        "id": "ztRcpWntq-pt",
        "outputId": "1c0723c5-2509-4713-e19d-61b12e6a82ad"
      },
      "source": [
        "new_df\n",
        "#year is a string, we need to convert it to int\n",
        "#Due to year column having letters and empty space, we need to clean them first.\n",
        "\n",
        "new_df['year'].replace('[a-zA-Z]*','',regex = True, inplace = True)             #because some years had letters, we need to remove them. Using Regex to remove.\n",
        "new_df['year'].replace(' ','',inplace = True)                                   #because some years had empty spaces too, we replace them as well.\n",
        "new_df['year'] = new_df['year'].astype(int)                                                      #i must reassign year column to astype(int).\n",
        "\n",
        "\n",
        "\n",
        "#highest rated drama in year 2020\n",
        "#select year and genre\n",
        "year = 2020\n",
        "genre = 'Drama'\n",
        "\n",
        "\n",
        "highest_rated = new_df[(new_df['genre'] == genre) & (new_df['year']==year)]\n",
        "highest_rated"
      ],
      "execution_count": 49,
      "outputs": [
        {
          "output_type": "execute_result",
          "data": {
            "text/html": [
              "<div>\n",
              "<style scoped>\n",
              "    .dataframe tbody tr th:only-of-type {\n",
              "        vertical-align: middle;\n",
              "    }\n",
              "\n",
              "    .dataframe tbody tr th {\n",
              "        vertical-align: top;\n",
              "    }\n",
              "\n",
              "    .dataframe thead th {\n",
              "        text-align: right;\n",
              "    }\n",
              "</style>\n",
              "<table border=\"1\" class=\"dataframe\">\n",
              "  <thead>\n",
              "    <tr style=\"text-align: right;\">\n",
              "      <th></th>\n",
              "      <th>Unnamed: 0</th>\n",
              "      <th>name</th>\n",
              "      <th>year</th>\n",
              "      <th>runtime</th>\n",
              "      <th>genre</th>\n",
              "      <th>rating</th>\n",
              "      <th>metascore</th>\n",
              "      <th>timeline</th>\n",
              "      <th>votes</th>\n",
              "      <th>gross</th>\n",
              "    </tr>\n",
              "  </thead>\n",
              "  <tbody>\n",
              "    <tr>\n",
              "      <th>2</th>\n",
              "      <td>2</td>\n",
              "      <td>Soorarai Pottru</td>\n",
              "      <td>2020</td>\n",
              "      <td>153</td>\n",
              "      <td>Drama</td>\n",
              "      <td>9.1</td>\n",
              "      <td>NaN</td>\n",
              "      <td>Nedumaaran Rajangam \"Maara\" sets out to make t...</td>\n",
              "      <td>78266.0</td>\n",
              "      <td>NaN</td>\n",
              "    </tr>\n",
              "    <tr>\n",
              "      <th>92</th>\n",
              "      <td>92</td>\n",
              "      <td>The Father</td>\n",
              "      <td>2020</td>\n",
              "      <td>97</td>\n",
              "      <td>Drama</td>\n",
              "      <td>8.3</td>\n",
              "      <td>88.0</td>\n",
              "      <td>A man refuses all assistance from his daughter...</td>\n",
              "      <td>59314.0</td>\n",
              "      <td>NaN</td>\n",
              "    </tr>\n",
              "  </tbody>\n",
              "</table>\n",
              "</div>"
            ],
            "text/plain": [
              "    Unnamed: 0             name  ...    votes  gross\n",
              "2            2  Soorarai Pottru  ...  78266.0    NaN\n",
              "92          92       The Father  ...  59314.0    NaN\n",
              "\n",
              "[2 rows x 10 columns]"
            ]
          },
          "metadata": {
            "tags": []
          },
          "execution_count": 49
        }
      ]
    },
    {
      "cell_type": "code",
      "metadata": {
        "id": "NkexpW_6xRkz",
        "colab": {
          "base_uri": "https://localhost:8080/"
        },
        "outputId": "955edc5d-ccac-4244-af3c-0bfc946906f5"
      },
      "source": [
        "new_df['gross'].apply(count_nan)"
      ],
      "execution_count": null,
      "outputs": [
        {
          "output_type": "execute_result",
          "data": {
            "text/plain": [
              "0      0\n",
              "1      0\n",
              "2      1\n",
              "3      0\n",
              "4      0\n",
              "      ..\n",
              "995    1\n",
              "996    1\n",
              "997    0\n",
              "998    0\n",
              "999    1\n",
              "Name: gross, Length: 1000, dtype: int64"
            ]
          },
          "metadata": {
            "tags": []
          },
          "execution_count": 21
        }
      ]
    },
    {
      "cell_type": "code",
      "metadata": {
        "id": "WZwGJPbsTVrh"
      },
      "source": [
        "#functions\n",
        "\n",
        "def multiply(a,b):\n",
        "  return a*b\n",
        "\n",
        "def avg(x,y):\n",
        "  return (x+y)/2\n",
        "\n",
        "#Count a particular column for null values\n",
        "def count_nan(vector):\n",
        "  null_vec = pd.isnull(vector)\n",
        "  null_count = np.sum(null_vec)\n",
        "  return null_count\n",
        "\n",
        "\n",
        "\n"
      ],
      "execution_count": null,
      "outputs": []
    },
    {
      "cell_type": "code",
      "metadata": {
        "colab": {
          "base_uri": "https://localhost:8080/"
        },
        "id": "yl_JGX33GA8R",
        "outputId": "47c16833-8f49-4635-c202-fe846e33c85f"
      },
      "source": [
        "#return the label of the max value in a groupby function.\n",
        "asd = new_df.groupby('name')['metascore'].sum()\n",
        "print(asd.idxmax() +' ' + str(asd.max()))"
      ],
      "execution_count": null,
      "outputs": [
        {
          "output_type": "stream",
          "text": [
            "Scarface 152.0\n"
          ],
          "name": "stdout"
        }
      ]
    }
  ]
}