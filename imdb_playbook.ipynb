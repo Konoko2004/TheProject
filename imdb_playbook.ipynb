{
  "nbformat": 4,
  "nbformat_minor": 0,
  "metadata": {
    "colab": {
      "name": "imdb playbook.ipynb",
      "provenance": [],
      "collapsed_sections": [],
      "authorship_tag": "ABX9TyN8MAh4BlV15yNx6C4Mlnd7",
      "include_colab_link": true
    },
    "kernelspec": {
      "name": "python3",
      "display_name": "Python 3"
    },
    "language_info": {
      "name": "python"
    }
  },
  "cells": [
    {
      "cell_type": "markdown",
      "metadata": {
        "id": "view-in-github",
        "colab_type": "text"
      },
      "source": [
        "<a href=\"https://colab.research.google.com/github/Konoko2004/TheProject/blob/main/imdb_playbook.ipynb\" target=\"_parent\"><img src=\"https://colab.research.google.com/assets/colab-badge.svg\" alt=\"Open In Colab\"/></a>"
      ]
    },
    {
      "cell_type": "code",
      "metadata": {
        "id": "pyFfFRN7FCt4"
      },
      "source": [
        "import pandas as pd\n",
        "import numpy as np\n"
      ],
      "execution_count": 5,
      "outputs": []
    },
    {
      "cell_type": "markdown",
      "metadata": {
        "id": "1NnQF8iVxBHF"
      },
      "source": [
        "#Import Data\n"
      ]
    },
    {
      "cell_type": "code",
      "metadata": {
        "id": "T3A9pTeHFEzj",
        "colab": {
          "base_uri": "https://localhost:8080/",
          "height": 204
        },
        "outputId": "3bdc2654-1fe4-4d4e-9384-cb52dd6a8d99"
      },
      "source": [
        "new_df = pd.read_csv(\"https://raw.githubusercontent.com/Konoko2004/TheProject/main/IMDB_movie_reviews_details.csv\")\n",
        "new_df.head()"
      ],
      "execution_count": 6,
      "outputs": [
        {
          "output_type": "execute_result",
          "data": {
            "text/html": [
              "<div>\n",
              "<style scoped>\n",
              "    .dataframe tbody tr th:only-of-type {\n",
              "        vertical-align: middle;\n",
              "    }\n",
              "\n",
              "    .dataframe tbody tr th {\n",
              "        vertical-align: top;\n",
              "    }\n",
              "\n",
              "    .dataframe thead th {\n",
              "        text-align: right;\n",
              "    }\n",
              "</style>\n",
              "<table border=\"1\" class=\"dataframe\">\n",
              "  <thead>\n",
              "    <tr style=\"text-align: right;\">\n",
              "      <th></th>\n",
              "      <th>Unnamed: 0</th>\n",
              "      <th>name</th>\n",
              "      <th>year</th>\n",
              "      <th>runtime</th>\n",
              "      <th>genre</th>\n",
              "      <th>rating</th>\n",
              "      <th>metascore</th>\n",
              "      <th>timeline</th>\n",
              "      <th>votes</th>\n",
              "      <th>gross</th>\n",
              "    </tr>\n",
              "  </thead>\n",
              "  <tbody>\n",
              "    <tr>\n",
              "      <th>0</th>\n",
              "      <td>0</td>\n",
              "      <td>The Shawshank Redemption</td>\n",
              "      <td>1994</td>\n",
              "      <td>142</td>\n",
              "      <td>Drama</td>\n",
              "      <td>9.3</td>\n",
              "      <td>80.0</td>\n",
              "      <td>Two imprisoned men bond over a number of years...</td>\n",
              "      <td>2,394,059</td>\n",
              "      <td>$28.34M</td>\n",
              "    </tr>\n",
              "    <tr>\n",
              "      <th>1</th>\n",
              "      <td>1</td>\n",
              "      <td>The Godfather</td>\n",
              "      <td>1972</td>\n",
              "      <td>175</td>\n",
              "      <td>Crime, Drama</td>\n",
              "      <td>9.2</td>\n",
              "      <td>100.0</td>\n",
              "      <td>An organized crime dynasty's aging patriarch t...</td>\n",
              "      <td>1,658,439</td>\n",
              "      <td>$134.97M</td>\n",
              "    </tr>\n",
              "    <tr>\n",
              "      <th>2</th>\n",
              "      <td>2</td>\n",
              "      <td>Soorarai Pottru</td>\n",
              "      <td>2020</td>\n",
              "      <td>153</td>\n",
              "      <td>Drama</td>\n",
              "      <td>9.1</td>\n",
              "      <td>NaN</td>\n",
              "      <td>Nedumaaran Rajangam \"Maara\" sets out to make t...</td>\n",
              "      <td>78,266</td>\n",
              "      <td>NaN</td>\n",
              "    </tr>\n",
              "    <tr>\n",
              "      <th>3</th>\n",
              "      <td>3</td>\n",
              "      <td>The Dark Knight</td>\n",
              "      <td>2008</td>\n",
              "      <td>152</td>\n",
              "      <td>Action, Crime, Drama</td>\n",
              "      <td>9.0</td>\n",
              "      <td>84.0</td>\n",
              "      <td>When the menace known as the Joker wreaks havo...</td>\n",
              "      <td>2,355,907</td>\n",
              "      <td>$534.86M</td>\n",
              "    </tr>\n",
              "    <tr>\n",
              "      <th>4</th>\n",
              "      <td>4</td>\n",
              "      <td>The Godfather: Part II</td>\n",
              "      <td>1974</td>\n",
              "      <td>202</td>\n",
              "      <td>Crime, Drama</td>\n",
              "      <td>9.0</td>\n",
              "      <td>90.0</td>\n",
              "      <td>The early life and career of Vito Corleone in ...</td>\n",
              "      <td>1,152,912</td>\n",
              "      <td>$57.30M</td>\n",
              "    </tr>\n",
              "  </tbody>\n",
              "</table>\n",
              "</div>"
            ],
            "text/plain": [
              "   Unnamed: 0                      name  ...      votes     gross\n",
              "0           0  The Shawshank Redemption  ...  2,394,059   $28.34M\n",
              "1           1             The Godfather  ...  1,658,439  $134.97M\n",
              "2           2           Soorarai Pottru  ...     78,266       NaN\n",
              "3           3           The Dark Knight  ...  2,355,907  $534.86M\n",
              "4           4    The Godfather: Part II  ...  1,152,912   $57.30M\n",
              "\n",
              "[5 rows x 10 columns]"
            ]
          },
          "metadata": {
            "tags": []
          },
          "execution_count": 6
        }
      ]
    },
    {
      "cell_type": "markdown",
      "metadata": {
        "id": "77bycO10r9MT"
      },
      "source": [
        "#Data Cleansing"
      ]
    },
    {
      "cell_type": "code",
      "metadata": {
        "colab": {
          "base_uri": "https://localhost:8080/"
        },
        "id": "xMpOvgCisAVQ",
        "outputId": "16c66ee1-3541-49af-aea6-14da14522ff1"
      },
      "source": [
        "#Drop NA rows so that table can be used for data analytics\n",
        "\n",
        "no_nan_df = new_df.dropna()                                                     #drop all na rows.\n",
        "no_nan_df.apply(count_missing)\n",
        "\n",
        "#year is a string, we need to convert it to int\n",
        "#Due to year column having letters and empty space, we need to clean them first.\n",
        "\n",
        "no_nan_df['year'].replace('[a-zA-Z]*','',regex = True, inplace = True)             #because some years had letters, we need to remove them. Using Regex to remove.\n",
        "no_nan_df['year'].replace(' ','',inplace = True)                                   #because some years had empty spaces too, we replace them as well.\n",
        "no_nan_df['year'] = no_nan_df['year'].astype(int)                                                      #i must reassign year column to astype(int).\n"
      ],
      "execution_count": 9,
      "outputs": [
        {
          "output_type": "stream",
          "text": [
            "/usr/local/lib/python3.7/dist-packages/pandas/core/series.py:4582: SettingWithCopyWarning: \n",
            "A value is trying to be set on a copy of a slice from a DataFrame\n",
            "\n",
            "See the caveats in the documentation: https://pandas.pydata.org/pandas-docs/stable/user_guide/indexing.html#returning-a-view-versus-a-copy\n",
            "  method=method,\n",
            "/usr/local/lib/python3.7/dist-packages/ipykernel_launcher.py:11: SettingWithCopyWarning: \n",
            "A value is trying to be set on a copy of a slice from a DataFrame.\n",
            "Try using .loc[row_indexer,col_indexer] = value instead\n",
            "\n",
            "See the caveats in the documentation: https://pandas.pydata.org/pandas-docs/stable/user_guide/indexing.html#returning-a-view-versus-a-copy\n",
            "  # This is added back by InteractiveShellApp.init_path()\n"
          ],
          "name": "stderr"
        }
      ]
    },
    {
      "cell_type": "code",
      "metadata": {
        "colab": {
          "base_uri": "https://localhost:8080/"
        },
        "id": "7pLuTzZAwqzh",
        "outputId": "a64a83dd-5ffd-490a-93b8-7265d74009b1"
      },
      "source": [
        ""
      ],
      "execution_count": 14,
      "outputs": [
        {
          "output_type": "execute_result",
          "data": {
            "text/plain": [
              "numpy.ndarray"
            ]
          },
          "metadata": {
            "tags": []
          },
          "execution_count": 14
        }
      ]
    },
    {
      "cell_type": "code",
      "metadata": {
        "colab": {
          "base_uri": "https://localhost:8080/"
        },
        "id": "BxC8Cky5om2Z",
        "outputId": "140aba12-6a8e-434f-b196-c9e91f355eb9"
      },
      "source": [
        "#row x col\n",
        "no_nan_df.shape\n",
        "\n",
        "#describe\n",
        "no_nan_df.describe()\n",
        "\n",
        "#data type of each Col\n",
        "\n",
        "no_nan_df.info()\n",
        "\n",
        "#count total occurrence of genre in the table\n",
        "no_nan_df['genre'].value_counts()\n"
      ],
      "execution_count": 15,
      "outputs": [
        {
          "output_type": "stream",
          "text": [
            "<class 'pandas.core.frame.DataFrame'>\n",
            "Int64Index: 747 entries, 0 to 998\n",
            "Data columns (total 10 columns):\n",
            " #   Column      Non-Null Count  Dtype  \n",
            "---  ------      --------------  -----  \n",
            " 0   Unnamed: 0  747 non-null    int64  \n",
            " 1   name        747 non-null    object \n",
            " 2   year        747 non-null    int64  \n",
            " 3   runtime     747 non-null    int64  \n",
            " 4   genre       747 non-null    object \n",
            " 5   rating      747 non-null    float64\n",
            " 6   metascore   747 non-null    float64\n",
            " 7   timeline    747 non-null    object \n",
            " 8   votes       747 non-null    object \n",
            " 9   gross       747 non-null    object \n",
            "dtypes: float64(2), int64(3), object(5)\n",
            "memory usage: 64.2+ KB\n"
          ],
          "name": "stdout"
        },
        {
          "output_type": "execute_result",
          "data": {
            "text/plain": [
              "Drama                        67\n",
              "Comedy, Drama                26\n",
              "Drama, Romance               26\n",
              "Crime, Drama, Thriller       25\n",
              "Action, Adventure, Sci-Fi    21\n",
              "                             ..\n",
              "Family, Sci-Fi                1\n",
              "Crime, Drama, Musical         1\n",
              "Drama, History, Romance       1\n",
              "Drama, Music, Mystery         1\n",
              "Drama, Musical, Sport         1\n",
              "Name: genre, Length: 175, dtype: int64"
            ]
          },
          "metadata": {
            "tags": []
          },
          "execution_count": 15
        }
      ]
    },
    {
      "cell_type": "markdown",
      "metadata": {
        "id": "kzV5GsL4tgm7"
      },
      "source": [
        "#Functions for Apply"
      ]
    },
    {
      "cell_type": "code",
      "metadata": {
        "id": "-sOExgrnxGqX"
      },
      "source": [
        "\n",
        "# checks for problematic data\n",
        "def count_missing(vector):\n",
        "\n",
        "  null_vec = pd.isnull(vector)\n",
        "  return np.sum(null_vec)\n",
        "\n",
        "def prop_missing(vec):\n",
        "  num = count_missing(vec)\n",
        "\n",
        "  denominator = vec.size\n",
        "\n",
        "  return num / denominator\n",
        "\n",
        "def prop_complete(vector):\n",
        "  \n",
        "  return 1 - prop_missing(vector)\n",
        "\n",
        "\n",
        "\n",
        "#functions\n",
        "\n",
        "def multiply(a,b):\n",
        "  return a*b\n",
        "\n",
        "def avg(x,y):\n",
        "  return (x+y)/2\n",
        "\n",
        "#Count a particular column for null values\n",
        "def count_nan(vector):\n",
        "  null_vec = pd.isnull(vector)\n",
        "  null_count = np.sum(null_vec)\n",
        "  return null_count\n"
      ],
      "execution_count": 8,
      "outputs": []
    },
    {
      "cell_type": "markdown",
      "metadata": {
        "id": "pdweFgyctnrK"
      },
      "source": [
        "#Checker\n"
      ]
    },
    {
      "cell_type": "code",
      "metadata": {
        "id": "4gPFfJV1y90B",
        "colab": {
          "base_uri": "https://localhost:8080/"
        },
        "outputId": "7f11bb25-b4a8-44d7-a87e-84b0ed9c3930"
      },
      "source": [
        "new_df.apply(count_missing)\n",
        "new_df.apply(prop_missing)\n",
        "new_df.apply(prop_complete)"
      ],
      "execution_count": null,
      "outputs": [
        {
          "output_type": "execute_result",
          "data": {
            "text/plain": [
              "Unnamed: 0      0\n",
              "name            0\n",
              "year            0\n",
              "runtime         0\n",
              "genre           0\n",
              "rating          0\n",
              "metascore     159\n",
              "timeline        0\n",
              "votes           0\n",
              "gross         171\n",
              "dtype: int64"
            ]
          },
          "metadata": {
            "tags": []
          },
          "execution_count": 4
        }
      ]
    },
    {
      "cell_type": "code",
      "metadata": {
        "id": "szqg4j92Z25r"
      },
      "source": [
        "#highest rated drama in year 2020\n",
        "#select year and genre\n",
        "year = 2020\n",
        "genre = 'Drama'\n",
        "\n",
        "\n",
        "highest_rated = new_df[(new_df['genre'] == genre) & (new_df['year']==year)]\n",
        "highest_rated = highest_rated.sort_values('rating',ascending = False)\n",
        "highest_rated.iloc[[0]]\n"
      ],
      "execution_count": null,
      "outputs": []
    },
    {
      "cell_type": "code",
      "metadata": {
        "id": "8nFoEfTE2CEH",
        "colab": {
          "base_uri": "https://localhost:8080/"
        },
        "outputId": "b905e500-07ed-4a99-d7fb-1c74f303c444"
      },
      "source": [
        "#Test\n",
        "\n",
        "#Rows with Null values in \"gross\" column.\n",
        "new_df.loc[pd.isnull(new_df['gross']),:]\n",
        "\n",
        "proper_df = no_nan_df.set_index(['year'])\n",
        "proper_df['metascore'].rolling(window = 5).apply(lambda x : np.sum(x))            # this is a moving sum of past 5 metascores.\n",
        "\n",
        "\n",
        "# return the higest rating of each unique genre\n",
        "\n",
        "genre_group = new_df.groupby(['genre'])\n",
        "\n",
        "genre_grouping = new_df[['name','genre','rating']].groupby('genre')\n",
        "genre_grouping.max()\n",
        "\n",
        "# # Return the highest rating of \"Action, Adventure\" genre\n",
        "genre_grouping.get_group('Action, Adventure').max()\n"
      ],
      "execution_count": null,
      "outputs": [
        {
          "output_type": "execute_result",
          "data": {
            "text/plain": [
              "Unnamed: 0    0\n",
              "name          0\n",
              "year          0\n",
              "runtime       0\n",
              "genre         0\n",
              "rating        0\n",
              "metascore     0\n",
              "timeline      0\n",
              "votes         0\n",
              "gross         0\n",
              "dtype: int64"
            ]
          },
          "metadata": {
            "tags": []
          },
          "execution_count": 5
        }
      ]
    },
    {
      "cell_type": "code",
      "metadata": {
        "colab": {
          "base_uri": "https://localhost:8080/",
          "height": 80
        },
        "id": "ztRcpWntq-pt",
        "outputId": "270dbaa1-208a-4b50-9f71-1e4029d6cc09"
      },
      "source": [
        "\n",
        "\n",
        "\n",
        "\n",
        "\n"
      ],
      "execution_count": null,
      "outputs": [
        {
          "output_type": "execute_result",
          "data": {
            "text/html": [
              "<div>\n",
              "<style scoped>\n",
              "    .dataframe tbody tr th:only-of-type {\n",
              "        vertical-align: middle;\n",
              "    }\n",
              "\n",
              "    .dataframe tbody tr th {\n",
              "        vertical-align: top;\n",
              "    }\n",
              "\n",
              "    .dataframe thead th {\n",
              "        text-align: right;\n",
              "    }\n",
              "</style>\n",
              "<table border=\"1\" class=\"dataframe\">\n",
              "  <thead>\n",
              "    <tr style=\"text-align: right;\">\n",
              "      <th></th>\n",
              "      <th>Unnamed: 0</th>\n",
              "      <th>name</th>\n",
              "      <th>year</th>\n",
              "      <th>runtime</th>\n",
              "      <th>genre</th>\n",
              "      <th>rating</th>\n",
              "      <th>metascore</th>\n",
              "      <th>timeline</th>\n",
              "      <th>votes</th>\n",
              "      <th>gross</th>\n",
              "    </tr>\n",
              "  </thead>\n",
              "  <tbody>\n",
              "    <tr>\n",
              "      <th>2</th>\n",
              "      <td>2</td>\n",
              "      <td>Soorarai Pottru</td>\n",
              "      <td>2020</td>\n",
              "      <td>153</td>\n",
              "      <td>Drama</td>\n",
              "      <td>9.1</td>\n",
              "      <td>NaN</td>\n",
              "      <td>Nedumaaran Rajangam \"Maara\" sets out to make t...</td>\n",
              "      <td>78,266</td>\n",
              "      <td>NaN</td>\n",
              "    </tr>\n",
              "  </tbody>\n",
              "</table>\n",
              "</div>"
            ],
            "text/plain": [
              "   Unnamed: 0             name  ...   votes  gross\n",
              "2           2  Soorarai Pottru  ...  78,266    NaN\n",
              "\n",
              "[1 rows x 10 columns]"
            ]
          },
          "metadata": {
            "tags": []
          },
          "execution_count": 11
        }
      ]
    },
    {
      "cell_type": "code",
      "metadata": {
        "id": "B8rH_yIRPYVN",
        "colab": {
          "base_uri": "https://localhost:8080/"
        },
        "outputId": "24acf3ba-b7cd-4671-a029-6fcccd27ab17"
      },
      "source": [
        "\n"
      ],
      "execution_count": null,
      "outputs": [
        {
          "output_type": "execute_result",
          "data": {
            "text/plain": [
              "name      The Dark Knight Rises\n",
              "rating                      8.4\n",
              "dtype: object"
            ]
          },
          "metadata": {
            "tags": []
          },
          "execution_count": 12
        }
      ]
    },
    {
      "cell_type": "code",
      "metadata": {
        "colab": {
          "base_uri": "https://localhost:8080/",
          "height": 419
        },
        "id": "bbmG0QHGdpCs",
        "outputId": "14101e21-1b70-4388-90f7-90458df75493"
      },
      "source": [
        "#work in progress\n",
        "#highest rated in each genre for year 2019\n",
        "\n",
        "year_2 = 2019\n",
        "\n",
        "t = new_df.sort_values(['year','genre','rating'], ascending = [True,True,False])          #to get top x of each category, first we need to sort the dataframe prior to groupby.\n",
        "highest_genre_rated = new_df[new_df['year']==year_2][['genre','rating']].groupby('genre').head().reset_index()\n",
        "t"
      ],
      "execution_count": null,
      "outputs": [
        {
          "output_type": "execute_result",
          "data": {
            "text/html": [
              "<div>\n",
              "<style scoped>\n",
              "    .dataframe tbody tr th:only-of-type {\n",
              "        vertical-align: middle;\n",
              "    }\n",
              "\n",
              "    .dataframe tbody tr th {\n",
              "        vertical-align: top;\n",
              "    }\n",
              "\n",
              "    .dataframe thead th {\n",
              "        text-align: right;\n",
              "    }\n",
              "</style>\n",
              "<table border=\"1\" class=\"dataframe\">\n",
              "  <thead>\n",
              "    <tr style=\"text-align: right;\">\n",
              "      <th></th>\n",
              "      <th>Unnamed: 0</th>\n",
              "      <th>name</th>\n",
              "      <th>year</th>\n",
              "      <th>runtime</th>\n",
              "      <th>genre</th>\n",
              "      <th>rating</th>\n",
              "      <th>metascore</th>\n",
              "      <th>timeline</th>\n",
              "      <th>votes</th>\n",
              "      <th>gross</th>\n",
              "    </tr>\n",
              "  </thead>\n",
              "  <tbody>\n",
              "    <tr>\n",
              "      <th>331</th>\n",
              "      <td>331</td>\n",
              "      <td>The Cabinet of Dr. Caligari</td>\n",
              "      <td>1920</td>\n",
              "      <td>67</td>\n",
              "      <td>Fantasy, Horror, Mystery</td>\n",
              "      <td>8.1</td>\n",
              "      <td>NaN</td>\n",
              "      <td>Hypnotist Dr. Caligari uses a somnambulist, Ce...</td>\n",
              "      <td>58,456</td>\n",
              "      <td>NaN</td>\n",
              "    </tr>\n",
              "    <tr>\n",
              "      <th>129</th>\n",
              "      <td>129</td>\n",
              "      <td>The Kid</td>\n",
              "      <td>1921</td>\n",
              "      <td>68</td>\n",
              "      <td>Comedy, Drama, Family</td>\n",
              "      <td>8.3</td>\n",
              "      <td>NaN</td>\n",
              "      <td>The Tramp cares for an abandoned child, but ev...</td>\n",
              "      <td>116,234</td>\n",
              "      <td>$5.45M</td>\n",
              "    </tr>\n",
              "    <tr>\n",
              "      <th>577</th>\n",
              "      <td>577</td>\n",
              "      <td>Nosferatu</td>\n",
              "      <td>1922</td>\n",
              "      <td>94</td>\n",
              "      <td>Fantasy, Horror</td>\n",
              "      <td>7.9</td>\n",
              "      <td>NaN</td>\n",
              "      <td>Vampire Count Orlok expresses interest in a ne...</td>\n",
              "      <td>90,046</td>\n",
              "      <td>NaN</td>\n",
              "    </tr>\n",
              "    <tr>\n",
              "      <th>194</th>\n",
              "      <td>194</td>\n",
              "      <td>Sherlock Jr.</td>\n",
              "      <td>1924</td>\n",
              "      <td>45</td>\n",
              "      <td>Action, Comedy, Romance</td>\n",
              "      <td>8.2</td>\n",
              "      <td>NaN</td>\n",
              "      <td>A film projectionist longs to be a detective, ...</td>\n",
              "      <td>43,586</td>\n",
              "      <td>$0.98M</td>\n",
              "    </tr>\n",
              "    <tr>\n",
              "      <th>193</th>\n",
              "      <td>193</td>\n",
              "      <td>The Gold Rush</td>\n",
              "      <td>1925</td>\n",
              "      <td>95</td>\n",
              "      <td>Adventure, Comedy, Drama</td>\n",
              "      <td>8.2</td>\n",
              "      <td>NaN</td>\n",
              "      <td>A prospector goes to the Klondike in search of...</td>\n",
              "      <td>103,171</td>\n",
              "      <td>$5.45M</td>\n",
              "    </tr>\n",
              "    <tr>\n",
              "      <th>...</th>\n",
              "      <td>...</td>\n",
              "      <td>...</td>\n",
              "      <td>...</td>\n",
              "      <td>...</td>\n",
              "      <td>...</td>\n",
              "      <td>...</td>\n",
              "      <td>...</td>\n",
              "      <td>...</td>\n",
              "      <td>...</td>\n",
              "      <td>...</td>\n",
              "    </tr>\n",
              "    <tr>\n",
              "      <th>92</th>\n",
              "      <td>92</td>\n",
              "      <td>The Father</td>\n",
              "      <td>2020</td>\n",
              "      <td>97</td>\n",
              "      <td>Drama</td>\n",
              "      <td>8.3</td>\n",
              "      <td>88.0</td>\n",
              "      <td>A man refuses all assistance from his daughter...</td>\n",
              "      <td>59,314</td>\n",
              "      <td>NaN</td>\n",
              "    </tr>\n",
              "    <tr>\n",
              "      <th>621</th>\n",
              "      <td>621</td>\n",
              "      <td>The Trial of the Chicago 7</td>\n",
              "      <td>2020</td>\n",
              "      <td>129</td>\n",
              "      <td>Drama, History, Thriller</td>\n",
              "      <td>7.8</td>\n",
              "      <td>76.0</td>\n",
              "      <td>The story of 7 people on trial stemming from v...</td>\n",
              "      <td>145,173</td>\n",
              "      <td>NaN</td>\n",
              "    </tr>\n",
              "    <tr>\n",
              "      <th>91</th>\n",
              "      <td>91</td>\n",
              "      <td>Dara of Jasenovac</td>\n",
              "      <td>2020</td>\n",
              "      <td>130</td>\n",
              "      <td>Drama, War</td>\n",
              "      <td>8.3</td>\n",
              "      <td>NaN</td>\n",
              "      <td>Follows the story of a young girl named Dara w...</td>\n",
              "      <td>34,568</td>\n",
              "      <td>NaN</td>\n",
              "    </tr>\n",
              "    <tr>\n",
              "      <th>146</th>\n",
              "      <td>146</td>\n",
              "      <td>Zack Snyder's Justice League</td>\n",
              "      <td>2021</td>\n",
              "      <td>242</td>\n",
              "      <td>Action, Adventure, Fantasy</td>\n",
              "      <td>8.2</td>\n",
              "      <td>54.0</td>\n",
              "      <td>Determined to ensure Superman's ultimate sacri...</td>\n",
              "      <td>288,549</td>\n",
              "      <td>NaN</td>\n",
              "    </tr>\n",
              "    <tr>\n",
              "      <th>579</th>\n",
              "      <td>579</td>\n",
              "      <td>The Mitchells vs the Machines</td>\n",
              "      <td>2021</td>\n",
              "      <td>113</td>\n",
              "      <td>Animation, Adventure, Comedy</td>\n",
              "      <td>7.8</td>\n",
              "      <td>81.0</td>\n",
              "      <td>A quirky, dysfunctional family's road trip is ...</td>\n",
              "      <td>43,128</td>\n",
              "      <td>NaN</td>\n",
              "    </tr>\n",
              "  </tbody>\n",
              "</table>\n",
              "<p>1000 rows × 10 columns</p>\n",
              "</div>"
            ],
            "text/plain": [
              "     Unnamed: 0                           name  ...    votes   gross\n",
              "331         331    The Cabinet of Dr. Caligari  ...   58,456     NaN\n",
              "129         129                        The Kid  ...  116,234  $5.45M\n",
              "577         577                      Nosferatu  ...   90,046     NaN\n",
              "194         194                   Sherlock Jr.  ...   43,586  $0.98M\n",
              "193         193                  The Gold Rush  ...  103,171  $5.45M\n",
              "..          ...                            ...  ...      ...     ...\n",
              "92           92                     The Father  ...   59,314     NaN\n",
              "621         621     The Trial of the Chicago 7  ...  145,173     NaN\n",
              "91           91              Dara of Jasenovac  ...   34,568     NaN\n",
              "146         146   Zack Snyder's Justice League  ...  288,549     NaN\n",
              "579         579  The Mitchells vs the Machines  ...   43,128     NaN\n",
              "\n",
              "[1000 rows x 10 columns]"
            ]
          },
          "metadata": {
            "tags": []
          },
          "execution_count": 12
        }
      ]
    },
    {
      "cell_type": "code",
      "metadata": {
        "colab": {
          "base_uri": "https://localhost:8080/"
        },
        "id": "yl_JGX33GA8R",
        "outputId": "47c16833-8f49-4635-c202-fe846e33c85f"
      },
      "source": [
        "#return the label of the max value in a groupby function.\n",
        "asd = new_df.groupby('name')['metascore'].sum()\n",
        "print(asd.idxmax() +' ' + str(asd.max()))"
      ],
      "execution_count": null,
      "outputs": [
        {
          "output_type": "stream",
          "text": [
            "Scarface 152.0\n"
          ],
          "name": "stdout"
        }
      ]
    }
  ]
}