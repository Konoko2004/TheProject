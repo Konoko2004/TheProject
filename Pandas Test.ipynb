{
  "nbformat": 4,
  "nbformat_minor": 0,
  "metadata": {
    "colab": {
      "name": "Untitled1.ipynb",
      "provenance": [],
      "authorship_tag": "ABX9TyM2Q8xNz3jWNtEJV7rhZDeY",
      "include_colab_link": true
    },
    "kernelspec": {
      "name": "python3",
      "display_name": "Python 3"
    },
    "language_info": {
      "name": "python"
    }
  },
  "cells": [
    {
      "cell_type": "markdown",
      "metadata": {
        "id": "view-in-github",
        "colab_type": "text"
      },
      "source": [
        "<a href=\"https://colab.research.google.com/github/Konoko2004/TheProject/blob/main/Pandas%20Test.ipynb\" target=\"_parent\"><img src=\"https://colab.research.google.com/assets/colab-badge.svg\" alt=\"Open In Colab\"/></a>"
      ]
    },
    {
      "cell_type": "code",
      "metadata": {
        "id": "0jFVKZxxfQ1E"
      },
      "source": [
        "print(\"This is a test\")"
      ],
      "execution_count": null,
      "outputs": []
    },
    {
      "cell_type": "code",
      "metadata": {
        "id": "eFV_HqYW3O1b"
      },
      "source": [
        "import pandas as pd\n",
        "import numpy as np\n"
      ],
      "execution_count": 7,
      "outputs": []
    },
    {
      "cell_type": "code",
      "metadata": {
        "id": "5VCgvMF6A4yK",
        "outputId": "a9641cea-58b2-4e9d-d836-fee619951384",
        "colab": {
          "base_uri": "https://localhost:8080/",
          "height": 142
        }
      },
      "source": [
        "\n",
        "#using pandas OrderedDict , we need to import OrderedDict first.\n",
        "\n",
        "from collections import OrderedDict\n",
        "\n",
        "Ordered_Dict = pd.DataFrame(OrderedDict([\n",
        "  (\"Name\",[\"Winston\",\"Byrion\",\"William\"]),\n",
        "  (\"Occupation\",[\"Data Guy\",\"Developer\",\"Jobless\"]),\n",
        "  (\"Age\",[34,25,18])\n",
        "  ]))\n",
        "\n",
        "UnOrdered_Dict = pd.DataFrame(\n",
        "    {'Name':['Rosaline','William','Kappanator'],\n",
        "     'Age':[19,33,69],\n",
        "     'Occupation': ['Chemist','Tech Guy','Memer'],\n",
        "     },\n",
        "     index = [\"A\",\"B\",\"C\"],\n",
        "     columns = ['Name','Age','Occupation']\n",
        ")\n",
        "\n",
        "\n",
        "UnOrdered_Dict"
      ],
      "execution_count": 53,
      "outputs": [
        {
          "output_type": "execute_result",
          "data": {
            "text/html": [
              "<div>\n",
              "<style scoped>\n",
              "    .dataframe tbody tr th:only-of-type {\n",
              "        vertical-align: middle;\n",
              "    }\n",
              "\n",
              "    .dataframe tbody tr th {\n",
              "        vertical-align: top;\n",
              "    }\n",
              "\n",
              "    .dataframe thead th {\n",
              "        text-align: right;\n",
              "    }\n",
              "</style>\n",
              "<table border=\"1\" class=\"dataframe\">\n",
              "  <thead>\n",
              "    <tr style=\"text-align: right;\">\n",
              "      <th></th>\n",
              "      <th>Name</th>\n",
              "      <th>Age</th>\n",
              "      <th>Occupation</th>\n",
              "    </tr>\n",
              "  </thead>\n",
              "  <tbody>\n",
              "    <tr>\n",
              "      <th>A</th>\n",
              "      <td>Rosaline</td>\n",
              "      <td>19</td>\n",
              "      <td>Chemist</td>\n",
              "    </tr>\n",
              "    <tr>\n",
              "      <th>B</th>\n",
              "      <td>William</td>\n",
              "      <td>33</td>\n",
              "      <td>Tech Guy</td>\n",
              "    </tr>\n",
              "    <tr>\n",
              "      <th>C</th>\n",
              "      <td>Kappanator</td>\n",
              "      <td>69</td>\n",
              "      <td>Memer</td>\n",
              "    </tr>\n",
              "  </tbody>\n",
              "</table>\n",
              "</div>"
            ],
            "text/plain": [
              "         Name  Age Occupation\n",
              "A    Rosaline   19    Chemist\n",
              "B     William   33   Tech Guy\n",
              "C  Kappanator   69      Memer"
            ]
          },
          "metadata": {
            "tags": []
          },
          "execution_count": 53
        }
      ]
    },
    {
      "cell_type": "code",
      "metadata": {
        "id": "y-_OsZjcMmQe",
        "outputId": "80dd290e-e867-4e7b-9ad6-f5c23d93c1fb",
        "colab": {
          "base_uri": "https://localhost:8080/",
          "height": 111
        }
      },
      "source": [
        "#1 trick with bool Values returning index of a table\n",
        "#using UnOrdered_Dict Table\n",
        "\n",
        "#this will return index 0 and index 2. Note that the length of values in manual_bool_Values has to match the number of rows in UnOrdered_Dict\n",
        "Manual_bool_values = [True,False,True]\n",
        "\n",
        "UnOrdered_Dict[Manual_bool_values]\n"
      ],
      "execution_count": 55,
      "outputs": [
        {
          "output_type": "execute_result",
          "data": {
            "text/html": [
              "<div>\n",
              "<style scoped>\n",
              "    .dataframe tbody tr th:only-of-type {\n",
              "        vertical-align: middle;\n",
              "    }\n",
              "\n",
              "    .dataframe tbody tr th {\n",
              "        vertical-align: top;\n",
              "    }\n",
              "\n",
              "    .dataframe thead th {\n",
              "        text-align: right;\n",
              "    }\n",
              "</style>\n",
              "<table border=\"1\" class=\"dataframe\">\n",
              "  <thead>\n",
              "    <tr style=\"text-align: right;\">\n",
              "      <th></th>\n",
              "      <th>Name</th>\n",
              "      <th>Age</th>\n",
              "      <th>Occupation</th>\n",
              "    </tr>\n",
              "  </thead>\n",
              "  <tbody>\n",
              "    <tr>\n",
              "      <th>A</th>\n",
              "      <td>Rosaline</td>\n",
              "      <td>19</td>\n",
              "      <td>Chemist</td>\n",
              "    </tr>\n",
              "    <tr>\n",
              "      <th>C</th>\n",
              "      <td>Kappanator</td>\n",
              "      <td>69</td>\n",
              "      <td>Memer</td>\n",
              "    </tr>\n",
              "  </tbody>\n",
              "</table>\n",
              "</div>"
            ],
            "text/plain": [
              "         Name  Age Occupation\n",
              "A    Rosaline   19    Chemist\n",
              "C  Kappanator   69      Memer"
            ]
          },
          "metadata": {
            "tags": []
          },
          "execution_count": 55
        }
      ]
    },
    {
      "cell_type": "code",
      "metadata": {
        "id": "_7oz9Vy63Ti1"
      },
      "source": [
        "\n",
        "s = pd.Series(['Winston',32],\n",
        "              index = ['Person',\"age\"])"
      ],
      "execution_count": 5,
      "outputs": []
    },
    {
      "cell_type": "code",
      "metadata": {
        "id": "7x63Fgmc3hhK",
        "outputId": "871a1163-7aad-48b4-f241-60c6d2635470",
        "colab": {
          "base_uri": "https://localhost:8080/"
        }
      },
      "source": [
        "nparray = np.array([\"Kappa\",\"Keepo\"])\n",
        "testing = pd.Series(nparray,\n",
        "                    index = ['Meme1','Meme2'])\n",
        "\n",
        "testing"
      ],
      "execution_count": 13,
      "outputs": [
        {
          "output_type": "execute_result",
          "data": {
            "text/plain": [
              "Meme1    Kappa\n",
              "Meme2    Keepo\n",
              "dtype: object"
            ]
          },
          "metadata": {
            "tags": []
          },
          "execution_count": 13
        }
      ]
    },
    {
      "cell_type": "code",
      "metadata": {
        "id": "PT0kPbg6KmeI"
      },
      "source": [
        "import yfinance as yf"
      ],
      "execution_count": 1,
      "outputs": []
    },
    {
      "cell_type": "code",
      "metadata": {
        "id": "fdXFxLoWOBFq",
        "outputId": "318c862c-e600-4533-d9c5-06f107c3b689",
        "colab": {
          "base_uri": "https://localhost:8080/",
          "height": 450
        }
      },
      "source": [
        "nio = yf.Ticker(\"NIO\")\n",
        "nio.history(period = \"1y\")\n",
        "nio_data = nio.history(period = \"1y\")\n",
        "\n",
        "#create high - low column\n",
        "nio_data['Open/Close Diff'] = abs(nio_data['Open'] - nio_data['Close'])\n",
        "nio_data['Open/Close ']\n",
        "\n"
      ],
      "execution_count": 17,
      "outputs": [
        {
          "output_type": "execute_result",
          "data": {
            "text/html": [
              "<div>\n",
              "<style scoped>\n",
              "    .dataframe tbody tr th:only-of-type {\n",
              "        vertical-align: middle;\n",
              "    }\n",
              "\n",
              "    .dataframe tbody tr th {\n",
              "        vertical-align: top;\n",
              "    }\n",
              "\n",
              "    .dataframe thead th {\n",
              "        text-align: right;\n",
              "    }\n",
              "</style>\n",
              "<table border=\"1\" class=\"dataframe\">\n",
              "  <thead>\n",
              "    <tr style=\"text-align: right;\">\n",
              "      <th></th>\n",
              "      <th>Open</th>\n",
              "      <th>High</th>\n",
              "      <th>Low</th>\n",
              "      <th>Close</th>\n",
              "      <th>Volume</th>\n",
              "      <th>Dividends</th>\n",
              "      <th>Stock Splits</th>\n",
              "      <th>Open/Close Diff</th>\n",
              "    </tr>\n",
              "    <tr>\n",
              "      <th>Date</th>\n",
              "      <th></th>\n",
              "      <th></th>\n",
              "      <th></th>\n",
              "      <th></th>\n",
              "      <th></th>\n",
              "      <th></th>\n",
              "      <th></th>\n",
              "      <th></th>\n",
              "    </tr>\n",
              "  </thead>\n",
              "  <tbody>\n",
              "    <tr>\n",
              "      <th>2020-05-15</th>\n",
              "      <td>3.370000</td>\n",
              "      <td>3.450000</td>\n",
              "      <td>3.360000</td>\n",
              "      <td>3.370000</td>\n",
              "      <td>13699000</td>\n",
              "      <td>0</td>\n",
              "      <td>0</td>\n",
              "      <td>0.000000</td>\n",
              "    </tr>\n",
              "    <tr>\n",
              "      <th>2020-05-18</th>\n",
              "      <td>3.500000</td>\n",
              "      <td>3.690000</td>\n",
              "      <td>3.500000</td>\n",
              "      <td>3.610000</td>\n",
              "      <td>27771300</td>\n",
              "      <td>0</td>\n",
              "      <td>0</td>\n",
              "      <td>0.110000</td>\n",
              "    </tr>\n",
              "    <tr>\n",
              "      <th>2020-05-19</th>\n",
              "      <td>3.620000</td>\n",
              "      <td>3.750000</td>\n",
              "      <td>3.590000</td>\n",
              "      <td>3.690000</td>\n",
              "      <td>21707400</td>\n",
              "      <td>0</td>\n",
              "      <td>0</td>\n",
              "      <td>0.070000</td>\n",
              "    </tr>\n",
              "    <tr>\n",
              "      <th>2020-05-20</th>\n",
              "      <td>3.760000</td>\n",
              "      <td>3.820000</td>\n",
              "      <td>3.400000</td>\n",
              "      <td>3.480000</td>\n",
              "      <td>52056900</td>\n",
              "      <td>0</td>\n",
              "      <td>0</td>\n",
              "      <td>0.280000</td>\n",
              "    </tr>\n",
              "    <tr>\n",
              "      <th>2020-05-21</th>\n",
              "      <td>3.400000</td>\n",
              "      <td>3.440000</td>\n",
              "      <td>3.230000</td>\n",
              "      <td>3.330000</td>\n",
              "      <td>41628400</td>\n",
              "      <td>0</td>\n",
              "      <td>0</td>\n",
              "      <td>0.070000</td>\n",
              "    </tr>\n",
              "    <tr>\n",
              "      <th>...</th>\n",
              "      <td>...</td>\n",
              "      <td>...</td>\n",
              "      <td>...</td>\n",
              "      <td>...</td>\n",
              "      <td>...</td>\n",
              "      <td>...</td>\n",
              "      <td>...</td>\n",
              "      <td>...</td>\n",
              "    </tr>\n",
              "    <tr>\n",
              "      <th>2021-05-10</th>\n",
              "      <td>36.779999</td>\n",
              "      <td>36.790001</td>\n",
              "      <td>34.299999</td>\n",
              "      <td>34.330002</td>\n",
              "      <td>92293900</td>\n",
              "      <td>0</td>\n",
              "      <td>0</td>\n",
              "      <td>2.449997</td>\n",
              "    </tr>\n",
              "    <tr>\n",
              "      <th>2021-05-11</th>\n",
              "      <td>32.450001</td>\n",
              "      <td>35.459999</td>\n",
              "      <td>32.200001</td>\n",
              "      <td>34.869999</td>\n",
              "      <td>113418900</td>\n",
              "      <td>0</td>\n",
              "      <td>0</td>\n",
              "      <td>2.419998</td>\n",
              "    </tr>\n",
              "    <tr>\n",
              "      <th>2021-05-12</th>\n",
              "      <td>34.380001</td>\n",
              "      <td>35.130001</td>\n",
              "      <td>33.480000</td>\n",
              "      <td>33.680000</td>\n",
              "      <td>75993700</td>\n",
              "      <td>0</td>\n",
              "      <td>0</td>\n",
              "      <td>0.700001</td>\n",
              "    </tr>\n",
              "    <tr>\n",
              "      <th>2021-05-13</th>\n",
              "      <td>33.849998</td>\n",
              "      <td>34.270000</td>\n",
              "      <td>30.709999</td>\n",
              "      <td>31.219999</td>\n",
              "      <td>113686700</td>\n",
              "      <td>0</td>\n",
              "      <td>0</td>\n",
              "      <td>2.629999</td>\n",
              "    </tr>\n",
              "    <tr>\n",
              "      <th>2021-05-14</th>\n",
              "      <td>31.940001</td>\n",
              "      <td>33.689999</td>\n",
              "      <td>31.559999</td>\n",
              "      <td>33.419998</td>\n",
              "      <td>80032000</td>\n",
              "      <td>0</td>\n",
              "      <td>0</td>\n",
              "      <td>1.479998</td>\n",
              "    </tr>\n",
              "  </tbody>\n",
              "</table>\n",
              "<p>252 rows × 8 columns</p>\n",
              "</div>"
            ],
            "text/plain": [
              "                 Open       High  ...  Stock Splits  Open/Close Diff\n",
              "Date                              ...                               \n",
              "2020-05-15   3.370000   3.450000  ...             0         0.000000\n",
              "2020-05-18   3.500000   3.690000  ...             0         0.110000\n",
              "2020-05-19   3.620000   3.750000  ...             0         0.070000\n",
              "2020-05-20   3.760000   3.820000  ...             0         0.280000\n",
              "2020-05-21   3.400000   3.440000  ...             0         0.070000\n",
              "...               ...        ...  ...           ...              ...\n",
              "2021-05-10  36.779999  36.790001  ...             0         2.449997\n",
              "2021-05-11  32.450001  35.459999  ...             0         2.419998\n",
              "2021-05-12  34.380001  35.130001  ...             0         0.700001\n",
              "2021-05-13  33.849998  34.270000  ...             0         2.629999\n",
              "2021-05-14  31.940001  33.689999  ...             0         1.479998\n",
              "\n",
              "[252 rows x 8 columns]"
            ]
          },
          "metadata": {
            "tags": []
          },
          "execution_count": 17
        }
      ]
    },
    {
      "cell_type": "code",
      "metadata": {
        "id": "1oWR020gLAfw",
        "outputId": "6e4b3ebd-d562-4d38-ca7d-05fbcafa67bf",
        "colab": {
          "base_uri": "https://localhost:8080/"
        }
      },
      "source": [
        "help(nio_data)"
      ],
      "execution_count": 14,
      "outputs": [
        {
          "output_type": "stream",
          "text": [
            "Help on Ticker in module yfinance.ticker object:\n",
            "\n",
            "class Ticker(yfinance.base.TickerBase)\n",
            " |  Ticker(ticker, session=None)\n",
            " |  \n",
            " |  Method resolution order:\n",
            " |      Ticker\n",
            " |      yfinance.base.TickerBase\n",
            " |      builtins.object\n",
            " |  \n",
            " |  Methods defined here:\n",
            " |  \n",
            " |  __repr__(self)\n",
            " |      Return repr(self).\n",
            " |  \n",
            " |  option_chain(self, date=None, proxy=None, tz=None)\n",
            " |  \n",
            " |  ----------------------------------------------------------------------\n",
            " |  Data descriptors defined here:\n",
            " |  \n",
            " |  actions\n",
            " |  \n",
            " |  balance_sheet\n",
            " |  \n",
            " |  balancesheet\n",
            " |  \n",
            " |  calendar\n",
            " |  \n",
            " |  cashflow\n",
            " |  \n",
            " |  dividends\n",
            " |  \n",
            " |  earnings\n",
            " |  \n",
            " |  financials\n",
            " |  \n",
            " |  info\n",
            " |  \n",
            " |  institutional_holders\n",
            " |  \n",
            " |  isin\n",
            " |  \n",
            " |  major_holders\n",
            " |  \n",
            " |  mutualfund_holders\n",
            " |  \n",
            " |  options\n",
            " |  \n",
            " |  quarterly_balance_sheet\n",
            " |  \n",
            " |  quarterly_balancesheet\n",
            " |  \n",
            " |  quarterly_cashflow\n",
            " |  \n",
            " |  quarterly_earnings\n",
            " |  \n",
            " |  quarterly_financials\n",
            " |  \n",
            " |  recommendations\n",
            " |  \n",
            " |  splits\n",
            " |  \n",
            " |  sustainability\n",
            " |  \n",
            " |  ----------------------------------------------------------------------\n",
            " |  Methods inherited from yfinance.base.TickerBase:\n",
            " |  \n",
            " |  __init__(self, ticker, session=None)\n",
            " |      Initialize self.  See help(type(self)) for accurate signature.\n",
            " |  \n",
            " |  get_actions(self, proxy=None)\n",
            " |  \n",
            " |  get_balance_sheet(self, proxy=None, as_dict=False, freq='yearly')\n",
            " |  \n",
            " |  get_balancesheet(self, proxy=None, as_dict=False, freq='yearly')\n",
            " |  \n",
            " |  get_calendar(self, proxy=None, as_dict=False, *args, **kwargs)\n",
            " |  \n",
            " |  get_cashflow(self, proxy=None, as_dict=False, freq='yearly')\n",
            " |  \n",
            " |  get_dividends(self, proxy=None)\n",
            " |  \n",
            " |  get_earnings(self, proxy=None, as_dict=False, freq='yearly')\n",
            " |  \n",
            " |  get_financials(self, proxy=None, as_dict=False, freq='yearly')\n",
            " |  \n",
            " |  get_info(self, proxy=None, as_dict=False, *args, **kwargs)\n",
            " |  \n",
            " |  get_institutional_holders(self, proxy=None, as_dict=False, *args, **kwargs)\n",
            " |  \n",
            " |  get_isin(self, proxy=None)\n",
            " |  \n",
            " |  get_major_holders(self, proxy=None, as_dict=False, *args, **kwargs)\n",
            " |  \n",
            " |  get_mutualfund_holders(self, proxy=None, as_dict=False, *args, **kwargs)\n",
            " |  \n",
            " |  get_recommendations(self, proxy=None, as_dict=False, *args, **kwargs)\n",
            " |  \n",
            " |  get_splits(self, proxy=None)\n",
            " |  \n",
            " |  get_sustainability(self, proxy=None, as_dict=False, *args, **kwargs)\n",
            " |  \n",
            " |  history(self, period='1mo', interval='1d', start=None, end=None, prepost=False, actions=True, auto_adjust=True, back_adjust=False, proxy=None, rounding=False, tz=None, **kwargs)\n",
            " |      :Parameters:\n",
            " |          period : str\n",
            " |              Valid periods: 1d,5d,1mo,3mo,6mo,1y,2y,5y,10y,ytd,max\n",
            " |              Either Use period parameter or use start and end\n",
            " |          interval : str\n",
            " |              Valid intervals: 1m,2m,5m,15m,30m,60m,90m,1h,1d,5d,1wk,1mo,3mo\n",
            " |              Intraday data cannot extend last 60 days\n",
            " |          start: str\n",
            " |              Download start date string (YYYY-MM-DD) or _datetime.\n",
            " |              Default is 1900-01-01\n",
            " |          end: str\n",
            " |              Download end date string (YYYY-MM-DD) or _datetime.\n",
            " |              Default is now\n",
            " |          prepost : bool\n",
            " |              Include Pre and Post market data in results?\n",
            " |              Default is False\n",
            " |          auto_adjust: bool\n",
            " |              Adjust all OHLC automatically? Default is True\n",
            " |          back_adjust: bool\n",
            " |              Back-adjusted data to mimic true historical prices\n",
            " |          proxy: str\n",
            " |              Optional. Proxy server URL scheme. Default is None\n",
            " |          rounding: bool\n",
            " |              Round values to 2 decimal places?\n",
            " |              Optional. Default is False = precision suggested by Yahoo!\n",
            " |          tz: str\n",
            " |              Optional timezone locale for dates.\n",
            " |              (default data is returned as non-localized dates)\n",
            " |          **kwargs: dict\n",
            " |              debug: bool\n",
            " |                  Optional. If passed as False, will suppress\n",
            " |                  error message printing to console.\n",
            " |  \n",
            " |  ----------------------------------------------------------------------\n",
            " |  Data descriptors inherited from yfinance.base.TickerBase:\n",
            " |  \n",
            " |  __dict__\n",
            " |      dictionary for instance variables (if defined)\n",
            " |  \n",
            " |  __weakref__\n",
            " |      list of weak references to the object (if defined)\n",
            "\n"
          ],
          "name": "stdout"
        }
      ]
    }
  ]
}