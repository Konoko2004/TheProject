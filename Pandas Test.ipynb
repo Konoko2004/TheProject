{
  "nbformat": 4,
  "nbformat_minor": 0,
  "metadata": {
    "colab": {
      "name": "Untitled1.ipynb",
      "provenance": [],
      "authorship_tag": "ABX9TyN60df+zZO8Kg+feaUDzmiA",
      "include_colab_link": true
    },
    "kernelspec": {
      "name": "python3",
      "display_name": "Python 3"
    },
    "language_info": {
      "name": "python"
    }
  },
  "cells": [
    {
      "cell_type": "markdown",
      "metadata": {
        "id": "view-in-github",
        "colab_type": "text"
      },
      "source": [
        "<a href=\"https://colab.research.google.com/github/Konoko2004/TheProject/blob/main/Pandas%20Test.ipynb\" target=\"_parent\"><img src=\"https://colab.research.google.com/assets/colab-badge.svg\" alt=\"Open In Colab\"/></a>"
      ]
    },
    {
      "cell_type": "code",
      "metadata": {
        "id": "0jFVKZxxfQ1E"
      },
      "source": [
        "print(\"This is a test\")"
      ],
      "execution_count": null,
      "outputs": []
    },
    {
      "cell_type": "code",
      "metadata": {
        "id": "eFV_HqYW3O1b"
      },
      "source": [
        "import pandas as pd\n",
        "import numpy as np\n"
      ],
      "execution_count": 7,
      "outputs": []
    },
    {
      "cell_type": "code",
      "metadata": {
        "colab": {
          "base_uri": "https://localhost:8080/",
          "height": 142
        },
        "id": "5VCgvMF6A4yK",
        "outputId": "a9641cea-58b2-4e9d-d836-fee619951384"
      },
      "source": [
        "\n",
        "#using pandas OrderedDict , we need to import OrderedDict first.\n",
        "\n",
        "from collections import OrderedDict\n",
        "\n",
        "Ordered_Dict = pd.DataFrame(OrderedDict([\n",
        "  (\"Name\",[\"Winston\",\"Byrion\",\"William\"]),\n",
        "  (\"Occupation\",[\"Data Guy\",\"Developer\",\"Jobless\"]),\n",
        "  (\"Age\",[34,25,18])\n",
        "  ]))\n",
        "\n",
        "UnOrdered_Dict = pd.DataFrame(\n",
        "    {'Name':['Rosaline','William','Kappanator'],\n",
        "     'Age':[19,33,69],\n",
        "     'Occupation': ['Chemist','Tech Guy','Memer'],\n",
        "     },\n",
        "     index = [\"A\",\"B\",\"C\"],\n",
        "     columns = ['Name','Age','Occupation']\n",
        ")\n",
        "\n",
        "\n",
        "UnOrdered_Dict"
      ],
      "execution_count": 53,
      "outputs": [
        {
          "output_type": "execute_result",
          "data": {
            "text/html": [
              "<div>\n",
              "<style scoped>\n",
              "    .dataframe tbody tr th:only-of-type {\n",
              "        vertical-align: middle;\n",
              "    }\n",
              "\n",
              "    .dataframe tbody tr th {\n",
              "        vertical-align: top;\n",
              "    }\n",
              "\n",
              "    .dataframe thead th {\n",
              "        text-align: right;\n",
              "    }\n",
              "</style>\n",
              "<table border=\"1\" class=\"dataframe\">\n",
              "  <thead>\n",
              "    <tr style=\"text-align: right;\">\n",
              "      <th></th>\n",
              "      <th>Name</th>\n",
              "      <th>Age</th>\n",
              "      <th>Occupation</th>\n",
              "    </tr>\n",
              "  </thead>\n",
              "  <tbody>\n",
              "    <tr>\n",
              "      <th>A</th>\n",
              "      <td>Rosaline</td>\n",
              "      <td>19</td>\n",
              "      <td>Chemist</td>\n",
              "    </tr>\n",
              "    <tr>\n",
              "      <th>B</th>\n",
              "      <td>William</td>\n",
              "      <td>33</td>\n",
              "      <td>Tech Guy</td>\n",
              "    </tr>\n",
              "    <tr>\n",
              "      <th>C</th>\n",
              "      <td>Kappanator</td>\n",
              "      <td>69</td>\n",
              "      <td>Memer</td>\n",
              "    </tr>\n",
              "  </tbody>\n",
              "</table>\n",
              "</div>"
            ],
            "text/plain": [
              "         Name  Age Occupation\n",
              "A    Rosaline   19    Chemist\n",
              "B     William   33   Tech Guy\n",
              "C  Kappanator   69      Memer"
            ]
          },
          "metadata": {
            "tags": []
          },
          "execution_count": 53
        }
      ]
    },
    {
      "cell_type": "code",
      "metadata": {
        "colab": {
          "base_uri": "https://localhost:8080/",
          "height": 111
        },
        "id": "y-_OsZjcMmQe",
        "outputId": "80dd290e-e867-4e7b-9ad6-f5c23d93c1fb"
      },
      "source": [
        "#1 trick with bool Values returning index of a table\n",
        "#using UnOrdered_Dict Table\n",
        "\n",
        "#this will return index 0 and index 2. Note that the length of values in manual_bool_Values has to match the number of rows in UnOrdered_Dict\n",
        "Manual_bool_values = [True,False,True]\n",
        "\n",
        "UnOrdered_Dict[Manual_bool_values]\n"
      ],
      "execution_count": 55,
      "outputs": [
        {
          "output_type": "execute_result",
          "data": {
            "text/html": [
              "<div>\n",
              "<style scoped>\n",
              "    .dataframe tbody tr th:only-of-type {\n",
              "        vertical-align: middle;\n",
              "    }\n",
              "\n",
              "    .dataframe tbody tr th {\n",
              "        vertical-align: top;\n",
              "    }\n",
              "\n",
              "    .dataframe thead th {\n",
              "        text-align: right;\n",
              "    }\n",
              "</style>\n",
              "<table border=\"1\" class=\"dataframe\">\n",
              "  <thead>\n",
              "    <tr style=\"text-align: right;\">\n",
              "      <th></th>\n",
              "      <th>Name</th>\n",
              "      <th>Age</th>\n",
              "      <th>Occupation</th>\n",
              "    </tr>\n",
              "  </thead>\n",
              "  <tbody>\n",
              "    <tr>\n",
              "      <th>A</th>\n",
              "      <td>Rosaline</td>\n",
              "      <td>19</td>\n",
              "      <td>Chemist</td>\n",
              "    </tr>\n",
              "    <tr>\n",
              "      <th>C</th>\n",
              "      <td>Kappanator</td>\n",
              "      <td>69</td>\n",
              "      <td>Memer</td>\n",
              "    </tr>\n",
              "  </tbody>\n",
              "</table>\n",
              "</div>"
            ],
            "text/plain": [
              "         Name  Age Occupation\n",
              "A    Rosaline   19    Chemist\n",
              "C  Kappanator   69      Memer"
            ]
          },
          "metadata": {
            "tags": []
          },
          "execution_count": 55
        }
      ]
    },
    {
      "cell_type": "code",
      "metadata": {
        "id": "_7oz9Vy63Ti1"
      },
      "source": [
        "\n",
        "s = pd.Series(['Winston',32],\n",
        "              index = ['Person',\"age\"])"
      ],
      "execution_count": 5,
      "outputs": []
    },
    {
      "cell_type": "code",
      "metadata": {
        "colab": {
          "base_uri": "https://localhost:8080/"
        },
        "id": "7x63Fgmc3hhK",
        "outputId": "871a1163-7aad-48b4-f241-60c6d2635470"
      },
      "source": [
        "nparray = np.array([\"Kappa\",\"Keepo\"])\n",
        "testing = pd.Series(nparray,\n",
        "                    index = ['Meme1','Meme2'])\n",
        "\n",
        "testing"
      ],
      "execution_count": 13,
      "outputs": [
        {
          "output_type": "execute_result",
          "data": {
            "text/plain": [
              "Meme1    Kappa\n",
              "Meme2    Keepo\n",
              "dtype: object"
            ]
          },
          "metadata": {
            "tags": []
          },
          "execution_count": 13
        }
      ]
    },
    {
      "cell_type": "code",
      "metadata": {
        "id": "PT0kPbg6KmeI"
      },
      "source": [
        "import yfinance as yf\n",
        "import pandas as pd\n"
      ],
      "execution_count": 23,
      "outputs": []
    },
    {
      "cell_type": "code",
      "metadata": {
        "colab": {
          "base_uri": "https://localhost:8080/",
          "height": 450
        },
        "id": "fdXFxLoWOBFq",
        "outputId": "631ddff7-184d-45b2-f45a-f9549e6b1a79"
      },
      "source": [
        "nio = yf.Ticker(\"NIO\")\n",
        "nio.history(period = \"1y\")\n",
        "nio_data = nio.history(period = \"1y\")\n",
        "\n",
        "#create high - low column\n",
        "nio_data = pd.DataFrame(nio_data)\n",
        "nio_data['Open/Close Diff'] = abs(nio_data['Open'] - nio_data['Close'])\n",
        "#Return mean of Open/Close Diff\n",
        "nio_mean = nio_data['Open/Close Diff'].mean()\n",
        "#Return Rows where Open/Close Diff is greater than mean\n",
        "nio_data[nio_data['Open/Close Diff'] > nio_mean]"
      ],
      "execution_count": 31,
      "outputs": [
        {
          "output_type": "execute_result",
          "data": {
            "text/html": [
              "<div>\n",
              "<style scoped>\n",
              "    .dataframe tbody tr th:only-of-type {\n",
              "        vertical-align: middle;\n",
              "    }\n",
              "\n",
              "    .dataframe tbody tr th {\n",
              "        vertical-align: top;\n",
              "    }\n",
              "\n",
              "    .dataframe thead th {\n",
              "        text-align: right;\n",
              "    }\n",
              "</style>\n",
              "<table border=\"1\" class=\"dataframe\">\n",
              "  <thead>\n",
              "    <tr style=\"text-align: right;\">\n",
              "      <th></th>\n",
              "      <th>Open</th>\n",
              "      <th>High</th>\n",
              "      <th>Low</th>\n",
              "      <th>Close</th>\n",
              "      <th>Volume</th>\n",
              "      <th>Dividends</th>\n",
              "      <th>Stock Splits</th>\n",
              "      <th>Open/Close Diff</th>\n",
              "    </tr>\n",
              "    <tr>\n",
              "      <th>Date</th>\n",
              "      <th></th>\n",
              "      <th></th>\n",
              "      <th></th>\n",
              "      <th></th>\n",
              "      <th></th>\n",
              "      <th></th>\n",
              "      <th></th>\n",
              "      <th></th>\n",
              "    </tr>\n",
              "  </thead>\n",
              "  <tbody>\n",
              "    <tr>\n",
              "      <th>2020-07-07</th>\n",
              "      <td>11.260000</td>\n",
              "      <td>13.770000</td>\n",
              "      <td>10.700000</td>\n",
              "      <td>13.220000</td>\n",
              "      <td>444070500</td>\n",
              "      <td>0</td>\n",
              "      <td>0</td>\n",
              "      <td>1.960000</td>\n",
              "    </tr>\n",
              "    <tr>\n",
              "      <th>2020-07-13</th>\n",
              "      <td>15.260000</td>\n",
              "      <td>16.440001</td>\n",
              "      <td>13.610000</td>\n",
              "      <td>13.840000</td>\n",
              "      <td>313460300</td>\n",
              "      <td>0</td>\n",
              "      <td>0</td>\n",
              "      <td>1.420000</td>\n",
              "    </tr>\n",
              "    <tr>\n",
              "      <th>2020-07-20</th>\n",
              "      <td>11.420000</td>\n",
              "      <td>12.840000</td>\n",
              "      <td>11.380000</td>\n",
              "      <td>12.820000</td>\n",
              "      <td>155428100</td>\n",
              "      <td>0</td>\n",
              "      <td>0</td>\n",
              "      <td>1.400000</td>\n",
              "    </tr>\n",
              "    <tr>\n",
              "      <th>2020-08-11</th>\n",
              "      <td>15.300000</td>\n",
              "      <td>15.450000</td>\n",
              "      <td>12.940000</td>\n",
              "      <td>12.990000</td>\n",
              "      <td>181311500</td>\n",
              "      <td>0</td>\n",
              "      <td>0</td>\n",
              "      <td>2.310000</td>\n",
              "    </tr>\n",
              "    <tr>\n",
              "      <th>2020-08-25</th>\n",
              "      <td>15.080000</td>\n",
              "      <td>17.870001</td>\n",
              "      <td>15.060000</td>\n",
              "      <td>17.840000</td>\n",
              "      <td>299047800</td>\n",
              "      <td>0</td>\n",
              "      <td>0</td>\n",
              "      <td>2.760000</td>\n",
              "    </tr>\n",
              "    <tr>\n",
              "      <th>...</th>\n",
              "      <td>...</td>\n",
              "      <td>...</td>\n",
              "      <td>...</td>\n",
              "      <td>...</td>\n",
              "      <td>...</td>\n",
              "      <td>...</td>\n",
              "      <td>...</td>\n",
              "      <td>...</td>\n",
              "    </tr>\n",
              "    <tr>\n",
              "      <th>2021-04-30</th>\n",
              "      <td>37.730000</td>\n",
              "      <td>41.220001</td>\n",
              "      <td>37.349998</td>\n",
              "      <td>39.840000</td>\n",
              "      <td>116546500</td>\n",
              "      <td>0</td>\n",
              "      <td>0</td>\n",
              "      <td>2.110001</td>\n",
              "    </tr>\n",
              "    <tr>\n",
              "      <th>2021-05-10</th>\n",
              "      <td>36.779999</td>\n",
              "      <td>36.790001</td>\n",
              "      <td>34.299999</td>\n",
              "      <td>34.330002</td>\n",
              "      <td>92293900</td>\n",
              "      <td>0</td>\n",
              "      <td>0</td>\n",
              "      <td>2.449997</td>\n",
              "    </tr>\n",
              "    <tr>\n",
              "      <th>2021-05-11</th>\n",
              "      <td>32.450001</td>\n",
              "      <td>35.459999</td>\n",
              "      <td>32.200001</td>\n",
              "      <td>34.869999</td>\n",
              "      <td>113418900</td>\n",
              "      <td>0</td>\n",
              "      <td>0</td>\n",
              "      <td>2.419998</td>\n",
              "    </tr>\n",
              "    <tr>\n",
              "      <th>2021-05-13</th>\n",
              "      <td>33.849998</td>\n",
              "      <td>34.270000</td>\n",
              "      <td>30.709999</td>\n",
              "      <td>31.219999</td>\n",
              "      <td>113686700</td>\n",
              "      <td>0</td>\n",
              "      <td>0</td>\n",
              "      <td>2.629999</td>\n",
              "    </tr>\n",
              "    <tr>\n",
              "      <th>2021-05-14</th>\n",
              "      <td>31.940001</td>\n",
              "      <td>33.689999</td>\n",
              "      <td>31.559999</td>\n",
              "      <td>33.419998</td>\n",
              "      <td>80032000</td>\n",
              "      <td>0</td>\n",
              "      <td>0</td>\n",
              "      <td>1.479998</td>\n",
              "    </tr>\n",
              "  </tbody>\n",
              "</table>\n",
              "<p>87 rows × 8 columns</p>\n",
              "</div>"
            ],
            "text/plain": [
              "                 Open       High  ...  Stock Splits  Open/Close Diff\n",
              "Date                              ...                               \n",
              "2020-07-07  11.260000  13.770000  ...             0         1.960000\n",
              "2020-07-13  15.260000  16.440001  ...             0         1.420000\n",
              "2020-07-20  11.420000  12.840000  ...             0         1.400000\n",
              "2020-08-11  15.300000  15.450000  ...             0         2.310000\n",
              "2020-08-25  15.080000  17.870001  ...             0         2.760000\n",
              "...               ...        ...  ...           ...              ...\n",
              "2021-04-30  37.730000  41.220001  ...             0         2.110001\n",
              "2021-05-10  36.779999  36.790001  ...             0         2.449997\n",
              "2021-05-11  32.450001  35.459999  ...             0         2.419998\n",
              "2021-05-13  33.849998  34.270000  ...             0         2.629999\n",
              "2021-05-14  31.940001  33.689999  ...             0         1.479998\n",
              "\n",
              "[87 rows x 8 columns]"
            ]
          },
          "metadata": {
            "tags": []
          },
          "execution_count": 31
        }
      ]
    },
    {
      "cell_type": "code",
      "metadata": {
        "id": "1oWR020gLAfw"
      },
      "source": [
        ""
      ],
      "execution_count": 17,
      "outputs": []
    }
  ]
}