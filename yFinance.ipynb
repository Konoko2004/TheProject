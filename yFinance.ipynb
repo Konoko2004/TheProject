{
  "nbformat": 4,
  "nbformat_minor": 0,
  "metadata": {
    "colab": {
      "name": "yFinance.ipynb",
      "provenance": [],
      "toc_visible": true,
      "authorship_tag": "ABX9TyMl6rJzPg9ozscYGBNok/el",
      "include_colab_link": true
    },
    "kernelspec": {
      "name": "python3",
      "display_name": "Python 3"
    },
    "language_info": {
      "name": "python"
    }
  },
  "cells": [
    {
      "cell_type": "markdown",
      "metadata": {
        "id": "view-in-github",
        "colab_type": "text"
      },
      "source": [
        "<a href=\"https://colab.research.google.com/github/Konoko2004/TheProject/blob/main/yFinance.ipynb\" target=\"_parent\"><img src=\"https://colab.research.google.com/assets/colab-badge.svg\" alt=\"Open In Colab\"/></a>"
      ]
    },
    {
      "cell_type": "code",
      "metadata": {
        "id": "RWjRZgqrJXqk",
        "colab": {
          "base_uri": "https://localhost:8080/"
        },
        "outputId": "e937510e-4fa6-4d04-b6ab-58594944c7b7"
      },
      "source": [
        "#Install related libraries\n",
        "\n",
        "!pip install yfinance\n",
        "!pip install dash\n",
        "!pip install matplotlib\n",
        "import seaborn as sns\n",
        "import matplotlib.pyplot as plt\n",
        "import pandas as pd\n",
        "import yfinance as yf\n",
        "from datetime import date"
      ],
      "execution_count": 1,
      "outputs": [
        {
          "output_type": "stream",
          "text": [
            "Requirement already satisfied: yfinance in /usr/local/lib/python3.7/dist-packages (0.1.59)\n",
            "Requirement already satisfied: multitasking>=0.0.7 in /usr/local/lib/python3.7/dist-packages (from yfinance) (0.0.9)\n",
            "Requirement already satisfied: pandas>=0.24 in /usr/local/lib/python3.7/dist-packages (from yfinance) (1.1.5)\n",
            "Requirement already satisfied: numpy>=1.15 in /usr/local/lib/python3.7/dist-packages (from yfinance) (1.19.5)\n",
            "Requirement already satisfied: lxml>=4.5.1 in /usr/local/lib/python3.7/dist-packages (from yfinance) (4.6.3)\n",
            "Requirement already satisfied: requests>=2.20 in /usr/local/lib/python3.7/dist-packages (from yfinance) (2.23.0)\n",
            "Requirement already satisfied: pytz>=2017.2 in /usr/local/lib/python3.7/dist-packages (from pandas>=0.24->yfinance) (2018.9)\n",
            "Requirement already satisfied: python-dateutil>=2.7.3 in /usr/local/lib/python3.7/dist-packages (from pandas>=0.24->yfinance) (2.8.1)\n",
            "Requirement already satisfied: certifi>=2017.4.17 in /usr/local/lib/python3.7/dist-packages (from requests>=2.20->yfinance) (2020.12.5)\n",
            "Requirement already satisfied: idna<3,>=2.5 in /usr/local/lib/python3.7/dist-packages (from requests>=2.20->yfinance) (2.10)\n",
            "Requirement already satisfied: chardet<4,>=3.0.2 in /usr/local/lib/python3.7/dist-packages (from requests>=2.20->yfinance) (3.0.4)\n",
            "Requirement already satisfied: urllib3!=1.25.0,!=1.25.1,<1.26,>=1.21.1 in /usr/local/lib/python3.7/dist-packages (from requests>=2.20->yfinance) (1.24.3)\n",
            "Requirement already satisfied: six>=1.5 in /usr/local/lib/python3.7/dist-packages (from python-dateutil>=2.7.3->pandas>=0.24->yfinance) (1.15.0)\n",
            "Requirement already satisfied: dash in /usr/local/lib/python3.7/dist-packages (1.20.0)\n",
            "Requirement already satisfied: dash-table==4.11.3 in /usr/local/lib/python3.7/dist-packages (from dash) (4.11.3)\n",
            "Requirement already satisfied: dash-renderer==1.9.1 in /usr/local/lib/python3.7/dist-packages (from dash) (1.9.1)\n",
            "Requirement already satisfied: plotly in /usr/local/lib/python3.7/dist-packages (from dash) (4.4.1)\n",
            "Requirement already satisfied: dash-html-components==1.1.3 in /usr/local/lib/python3.7/dist-packages (from dash) (1.1.3)\n",
            "Requirement already satisfied: flask-compress in /usr/local/lib/python3.7/dist-packages (from dash) (1.9.0)\n",
            "Requirement already satisfied: future in /usr/local/lib/python3.7/dist-packages (from dash) (0.16.0)\n",
            "Requirement already satisfied: Flask>=1.0.4 in /usr/local/lib/python3.7/dist-packages (from dash) (1.1.4)\n",
            "Requirement already satisfied: dash-core-components==1.16.0 in /usr/local/lib/python3.7/dist-packages (from dash) (1.16.0)\n",
            "Requirement already satisfied: retrying>=1.3.3 in /usr/local/lib/python3.7/dist-packages (from plotly->dash) (1.3.3)\n",
            "Requirement already satisfied: six in /usr/local/lib/python3.7/dist-packages (from plotly->dash) (1.15.0)\n",
            "Requirement already satisfied: brotli in /usr/local/lib/python3.7/dist-packages (from flask-compress->dash) (1.0.9)\n",
            "Requirement already satisfied: itsdangerous<2.0,>=0.24 in /usr/local/lib/python3.7/dist-packages (from Flask>=1.0.4->dash) (1.1.0)\n",
            "Requirement already satisfied: click<8.0,>=5.1 in /usr/local/lib/python3.7/dist-packages (from Flask>=1.0.4->dash) (7.1.2)\n",
            "Requirement already satisfied: Jinja2<3.0,>=2.10.1 in /usr/local/lib/python3.7/dist-packages (from Flask>=1.0.4->dash) (2.11.3)\n",
            "Requirement already satisfied: Werkzeug<2.0,>=0.15 in /usr/local/lib/python3.7/dist-packages (from Flask>=1.0.4->dash) (1.0.1)\n",
            "Requirement already satisfied: MarkupSafe>=0.23 in /usr/local/lib/python3.7/dist-packages (from Jinja2<3.0,>=2.10.1->Flask>=1.0.4->dash) (2.0.1)\n",
            "Requirement already satisfied: matplotlib in /usr/local/lib/python3.7/dist-packages (3.2.2)\n",
            "Requirement already satisfied: cycler>=0.10 in /usr/local/lib/python3.7/dist-packages (from matplotlib) (0.10.0)\n",
            "Requirement already satisfied: pyparsing!=2.0.4,!=2.1.2,!=2.1.6,>=2.0.1 in /usr/local/lib/python3.7/dist-packages (from matplotlib) (2.4.7)\n",
            "Requirement already satisfied: kiwisolver>=1.0.1 in /usr/local/lib/python3.7/dist-packages (from matplotlib) (1.3.1)\n",
            "Requirement already satisfied: numpy>=1.11 in /usr/local/lib/python3.7/dist-packages (from matplotlib) (1.19.5)\n",
            "Requirement already satisfied: python-dateutil>=2.1 in /usr/local/lib/python3.7/dist-packages (from matplotlib) (2.8.1)\n",
            "Requirement already satisfied: six in /usr/local/lib/python3.7/dist-packages (from cycler>=0.10->matplotlib) (1.15.0)\n"
          ],
          "name": "stdout"
        }
      ]
    },
    {
      "cell_type": "code",
      "metadata": {
        "colab": {
          "base_uri": "https://localhost:8080/"
        },
        "id": "gYQqV11SPO4M",
        "outputId": "646a9983-0fb7-4efa-a129-c0c6b2ffe01c"
      },
      "source": [
        "#test list comprehension with unpacking function\n",
        "import collections\n",
        "\n",
        "persontype = collections.namedtuple('person',['first_Name','last_Name','Age'])\n",
        "profiles = [['Winston','Loke',31],['Ad','Loke',22]]\n",
        "\n",
        "namedpeople = [persontype(*i) for i in profiles]\n",
        "namedpeople\n",
        "\n",
        "\n"
      ],
      "execution_count": 14,
      "outputs": [
        {
          "output_type": "execute_result",
          "data": {
            "text/plain": [
              "[person(first_Name='Winston', last_Name='Loke', Age=31),\n",
              " person(first_Name='Ad', last_Name='Loke', Age=22)]"
            ]
          },
          "metadata": {
            "tags": []
          },
          "execution_count": 14
        }
      ]
    },
    {
      "cell_type": "code",
      "metadata": {
        "id": "J7LwPCoNJJWX",
        "colab": {
          "base_uri": "https://localhost:8080/"
        },
        "outputId": "428d0583-0d82-41ce-c98b-00c1fb69c1c9"
      },
      "source": [
        "# df1 = pd.DataFrame([[1,2,3,4]],\n",
        "#                    columns = ['a','b','c','d'])\n",
        "# df2 = pd.DataFrame([[1,2,3,4,5],[1,4,9,16,25],[1,16,87,12,41]],\n",
        "#                    columns = ['a','b','c','d','e'])\n",
        "\n",
        "# print(pd.concat([df1,df2],axis=1))"
      ],
      "execution_count": null,
      "outputs": [
        {
          "output_type": "stream",
          "text": [
            "     a    b    c    d  a   b   c   d   e\n",
            "0  1.0  2.0  3.0  4.0  1   2   3   4   5\n",
            "1  NaN  NaN  NaN  NaN  1   4   9  16  25\n",
            "2  NaN  NaN  NaN  NaN  1  16  87  12  41\n"
          ],
          "name": "stdout"
        }
      ]
    },
    {
      "cell_type": "code",
      "metadata": {
        "id": "IzdDIBKt79JG"
      },
      "source": [
        "# Function to create a DF of a ticker. We will add them to a class of stocks later.\n",
        "\n",
        "# def create_Stock(tickerName):\n",
        "#     stock = yf.Ticker(tickerName)\n",
        "#     stockhistory = stock.history(period = '1y')\n",
        "#     stock_df = pd.DataFrame(stockhistory)\n",
        "#     stock_df['Ticker'] = tickerName\n",
        "#     stock_df.reset_index(inplace = True) # push date index to become a column.\n",
        "#     stock_df['Date'] = stock_df['Date'].dt.strftime('%d/%m/%Y')  #dd/mm/yyyy format.\n",
        "#     return stock_df"
      ],
      "execution_count": null,
      "outputs": []
    },
    {
      "cell_type": "code",
      "metadata": {
        "id": "Kvy8h2vh8Bmm"
      },
      "source": [
        "def create_Stock(*tickerName):\n",
        "\n",
        "    frames = []\n",
        "\n",
        "    for i in tickerName:\n",
        "        stock = yf.Ticker(i)\n",
        "        stockhistory = stock.history(period = 'max')\n",
        "        stock_df = pd.DataFrame(stockhistory)\n",
        "        stock_df['Ticker'] = i\n",
        "        stock_df.reset_index(inplace = True)                                    #push date index to become a column\n",
        "        stock_df['Date'] = stock_df['Date'].dt.strftime('%d/%m/%Y')             #dd/mm/yyyy format\n",
        "        frames.append(stock_df)\n",
        "    \n",
        "    return frames\n",
        "        \n",
        "    "
      ],
      "execution_count": 2,
      "outputs": []
    },
    {
      "cell_type": "code",
      "metadata": {
        "colab": {
          "base_uri": "https://localhost:8080/"
        },
        "id": "3WxDl1J88Ms9",
        "outputId": "5ce82ddb-5c54-42e2-db5e-5aa2514153db"
      },
      "source": [
        "stockList = create_Stock('nio','tsla','msft','pltr')\n",
        "stockList = pd.concat(stockList)\n",
        "stockList['High-Low'] = stockList['High'] - stockList['Low']\n",
        "stockList = stockList[['Date','Ticker','Open','High','Low','Close','High-Low','Volume','Dividends','Stock Splits']]\n",
        "stockList['Ticker'].unique()"
      ],
      "execution_count": 3,
      "outputs": [
        {
          "output_type": "execute_result",
          "data": {
            "text/plain": [
              "array(['nio', 'tsla', 'msft', 'pltr'], dtype=object)"
            ]
          },
          "metadata": {
            "tags": []
          },
          "execution_count": 3
        }
      ]
    },
    {
      "cell_type": "code",
      "metadata": {
        "colab": {
          "base_uri": "https://localhost:8080/",
          "height": 265
        },
        "id": "5irWWVYrMhmF",
        "outputId": "af723eeb-948d-4f49-8d27-a8f00ca4a70b"
      },
      "source": [
        "\n",
        "\n",
        "#Store each ticker in a list with seperate index\n",
        "#so that we can plot each stock later on\n",
        "\n",
        "TickerDF = []\n",
        "stock_count = len(stockList['Ticker'].unique())\n",
        "for i in stockList['Ticker'].unique():\n",
        "    TickerDF.append(stockList[stockList['Ticker'] ==i])\n",
        "\n",
        "#set plt figure axes\n",
        "df_counter = 0\n",
        "nrow = 2\n",
        "ncol = 2\n",
        "\n",
        "\n",
        "#create subplots\n",
        "# plt.subplots() is a function that returns a tuple containing a figure and axes object(s). \n",
        "# Thus when using fig, ax = plt.subplots() you unpack this tuple into the variables fig and ax.\n",
        "# fig, axes = plt.subplots  is more concise than using fig = plt.figure()\n",
        "\n",
        "fig, axes = plt.subplots(nrow, ncol)\n",
        "\n",
        "for i in range(nrow):\n",
        "    \n",
        "    for j in range(ncol):\n",
        "        \n",
        "        if (len(TickerDF) > df_counter):\n",
        "\n",
        "            TickerDF[df_counter][['Date','Close']].plot(ax=axes[i,j])\n",
        "            \n",
        "            df_counter += 1\n"
      ],
      "execution_count": 10,
      "outputs": [
        {
          "output_type": "display_data",
          "data": {
            "image/png": "[encoded data removed]",
            "text/plain": [
              "<Figure size 432x288 with 4 Axes>"
            ]
          },
          "metadata": {
            "tags": [],
            "needs_background": "light"
          }
        }
      ]
    },
    {
      "cell_type": "code",
      "metadata": {
        "colab": {
          "base_uri": "https://localhost:8080/",
          "height": 287
        },
        "id": "XHPEUu4tclqX",
        "outputId": "0e3f98f8-5ada-4b75-f097-bc9a8defe05f"
      },
      "source": [
        "df_counter = 0\n",
        "nrow = 2\n",
        "ncol = 2\n",
        "\n",
        "fig, axes = plt.subplots(nrow, ncol)\n",
        "\n",
        "axes[0,0].plot(TickerDF[0]['Date'],TickerDF[0]['Close'])"
      ],
      "execution_count": 45,
      "outputs": [
        {
          "output_type": "execute_result",
          "data": {
            "text/plain": [
              "[<matplotlib.lines.Line2D at 0x7f7d3e34b190>]"
            ]
          },
          "metadata": {
            "tags": []
          },
          "execution_count": 45
        },
        {
          "output_type": "display_data",
          "data": {
            "image/png": "[encoded data removed]",
            "text/plain": [
              "<Figure size 432x288 with 4 Axes>"
            ]
          },
          "metadata": {
            "tags": [],
            "needs_background": "light"
          }
        }
      ]
    },
    {
      "cell_type": "code",
      "metadata": {
        "colab": {
          "base_uri": "https://localhost:8080/",
          "height": 407
        },
        "id": "VnkhaD5cb7u0",
        "outputId": "81c28117-c4c6-4aff-cdfe-abeda2d86b97"
      },
      "source": [
        "TickerDF[0][['Date','Close']].plot(ax=axes)"
      ],
      "execution_count": 38,
      "outputs": [
        {
          "output_type": "execute_result",
          "data": {
            "text/html": [
              "<div>\n",
              "<style scoped>\n",
              "    .dataframe tbody tr th:only-of-type {\n",
              "        vertical-align: middle;\n",
              "    }\n",
              "\n",
              "    .dataframe tbody tr th {\n",
              "        vertical-align: top;\n",
              "    }\n",
              "\n",
              "    .dataframe thead th {\n",
              "        text-align: right;\n",
              "    }\n",
              "</style>\n",
              "<table border=\"1\" class=\"dataframe\">\n",
              "  <thead>\n",
              "    <tr style=\"text-align: right;\">\n",
              "      <th></th>\n",
              "      <th>Date</th>\n",
              "      <th>Ticker</th>\n",
              "      <th>Open</th>\n",
              "      <th>High</th>\n",
              "      <th>Low</th>\n",
              "      <th>Close</th>\n",
              "      <th>High-Low</th>\n",
              "      <th>Volume</th>\n",
              "      <th>Dividends</th>\n",
              "      <th>Stock Splits</th>\n",
              "    </tr>\n",
              "  </thead>\n",
              "  <tbody>\n",
              "    <tr>\n",
              "      <th>0</th>\n",
              "      <td>12/09/2018</td>\n",
              "      <td>nio</td>\n",
              "      <td>6.000000</td>\n",
              "      <td>6.930000</td>\n",
              "      <td>5.350000</td>\n",
              "      <td>6.600000</td>\n",
              "      <td>1.580000</td>\n",
              "      <td>66849000</td>\n",
              "      <td>0.0</td>\n",
              "      <td>0.0</td>\n",
              "    </tr>\n",
              "    <tr>\n",
              "      <th>1</th>\n",
              "      <td>13/09/2018</td>\n",
              "      <td>nio</td>\n",
              "      <td>6.620000</td>\n",
              "      <td>12.690000</td>\n",
              "      <td>6.520000</td>\n",
              "      <td>11.600000</td>\n",
              "      <td>6.170000</td>\n",
              "      <td>158346500</td>\n",
              "      <td>0.0</td>\n",
              "      <td>0.0</td>\n",
              "    </tr>\n",
              "    <tr>\n",
              "      <th>2</th>\n",
              "      <td>14/09/2018</td>\n",
              "      <td>nio</td>\n",
              "      <td>12.660000</td>\n",
              "      <td>13.800000</td>\n",
              "      <td>9.220000</td>\n",
              "      <td>9.900000</td>\n",
              "      <td>4.580000</td>\n",
              "      <td>172473600</td>\n",
              "      <td>0.0</td>\n",
              "      <td>0.0</td>\n",
              "    </tr>\n",
              "    <tr>\n",
              "      <th>3</th>\n",
              "      <td>17/09/2018</td>\n",
              "      <td>nio</td>\n",
              "      <td>9.610000</td>\n",
              "      <td>9.750000</td>\n",
              "      <td>8.500000</td>\n",
              "      <td>8.500000</td>\n",
              "      <td>1.250000</td>\n",
              "      <td>56323900</td>\n",
              "      <td>0.0</td>\n",
              "      <td>0.0</td>\n",
              "    </tr>\n",
              "    <tr>\n",
              "      <th>4</th>\n",
              "      <td>18/09/2018</td>\n",
              "      <td>nio</td>\n",
              "      <td>8.730000</td>\n",
              "      <td>9.100000</td>\n",
              "      <td>7.670000</td>\n",
              "      <td>7.680000</td>\n",
              "      <td>1.430000</td>\n",
              "      <td>41827600</td>\n",
              "      <td>0.0</td>\n",
              "      <td>0.0</td>\n",
              "    </tr>\n",
              "    <tr>\n",
              "      <th>...</th>\n",
              "      <td>...</td>\n",
              "      <td>...</td>\n",
              "      <td>...</td>\n",
              "      <td>...</td>\n",
              "      <td>...</td>\n",
              "      <td>...</td>\n",
              "      <td>...</td>\n",
              "      <td>...</td>\n",
              "      <td>...</td>\n",
              "      <td>...</td>\n",
              "    </tr>\n",
              "    <tr>\n",
              "      <th>678</th>\n",
              "      <td>24/05/2021</td>\n",
              "      <td>nio</td>\n",
              "      <td>34.259998</td>\n",
              "      <td>36.490002</td>\n",
              "      <td>33.560001</td>\n",
              "      <td>35.889999</td>\n",
              "      <td>2.930000</td>\n",
              "      <td>67244400</td>\n",
              "      <td>0.0</td>\n",
              "      <td>0.0</td>\n",
              "    </tr>\n",
              "    <tr>\n",
              "      <th>679</th>\n",
              "      <td>25/05/2021</td>\n",
              "      <td>nio</td>\n",
              "      <td>36.320000</td>\n",
              "      <td>37.639999</td>\n",
              "      <td>35.689999</td>\n",
              "      <td>36.070000</td>\n",
              "      <td>1.950001</td>\n",
              "      <td>76628000</td>\n",
              "      <td>0.0</td>\n",
              "      <td>0.0</td>\n",
              "    </tr>\n",
              "    <tr>\n",
              "      <th>680</th>\n",
              "      <td>26/05/2021</td>\n",
              "      <td>nio</td>\n",
              "      <td>36.250000</td>\n",
              "      <td>38.080002</td>\n",
              "      <td>36.070000</td>\n",
              "      <td>37.759998</td>\n",
              "      <td>2.010002</td>\n",
              "      <td>55929000</td>\n",
              "      <td>0.0</td>\n",
              "      <td>0.0</td>\n",
              "    </tr>\n",
              "    <tr>\n",
              "      <th>681</th>\n",
              "      <td>27/05/2021</td>\n",
              "      <td>nio</td>\n",
              "      <td>37.950001</td>\n",
              "      <td>38.980000</td>\n",
              "      <td>37.180000</td>\n",
              "      <td>38.910000</td>\n",
              "      <td>1.799999</td>\n",
              "      <td>53064400</td>\n",
              "      <td>0.0</td>\n",
              "      <td>0.0</td>\n",
              "    </tr>\n",
              "    <tr>\n",
              "      <th>682</th>\n",
              "      <td>28/05/2021</td>\n",
              "      <td>nio</td>\n",
              "      <td>38.740002</td>\n",
              "      <td>39.759998</td>\n",
              "      <td>38.169998</td>\n",
              "      <td>38.619999</td>\n",
              "      <td>1.590000</td>\n",
              "      <td>58159400</td>\n",
              "      <td>0.0</td>\n",
              "      <td>0.0</td>\n",
              "    </tr>\n",
              "  </tbody>\n",
              "</table>\n",
              "<p>683 rows × 10 columns</p>\n",
              "</div>"
            ],
            "text/plain": [
              "           Date Ticker       Open  ...     Volume  Dividends  Stock Splits\n",
              "0    12/09/2018    nio   6.000000  ...   66849000        0.0           0.0\n",
              "1    13/09/2018    nio   6.620000  ...  158346500        0.0           0.0\n",
              "2    14/09/2018    nio  12.660000  ...  172473600        0.0           0.0\n",
              "3    17/09/2018    nio   9.610000  ...   56323900        0.0           0.0\n",
              "4    18/09/2018    nio   8.730000  ...   41827600        0.0           0.0\n",
              "..          ...    ...        ...  ...        ...        ...           ...\n",
              "678  24/05/2021    nio  34.259998  ...   67244400        0.0           0.0\n",
              "679  25/05/2021    nio  36.320000  ...   76628000        0.0           0.0\n",
              "680  26/05/2021    nio  36.250000  ...   55929000        0.0           0.0\n",
              "681  27/05/2021    nio  37.950001  ...   53064400        0.0           0.0\n",
              "682  28/05/2021    nio  38.740002  ...   58159400        0.0           0.0\n",
              "\n",
              "[683 rows x 10 columns]"
            ]
          },
          "metadata": {
            "tags": []
          },
          "execution_count": 38
        }
      ]
    },
    {
      "cell_type": "code",
      "metadata": {
        "colab": {
          "base_uri": "https://localhost:8080/",
          "height": 305
        },
        "id": "Wk2DDa0GH50n",
        "outputId": "d6ff534d-82ab-4b70-be22-a059d5e99865"
      },
      "source": [
        "fig, axes = plt.subplots(2, 2)\n",
        "TickerDF[0][['Date','Close']].plot(ax=axes[0,0])\n",
        "\n",
        "\n",
        "TickerDF\n",
        "\n",
        "for i in range(ncol):\n",
        "  print(i)"
      ],
      "execution_count": null,
      "outputs": [
        {
          "output_type": "stream",
          "text": [
            "0\n",
            "1\n"
          ],
          "name": "stdout"
        },
        {
          "output_type": "display_data",
          "data": {
            "image/png": "[encoded data removed]",
            "text/plain": [
              "<Figure size 432x288 with 4 Axes>"
            ]
          },
          "metadata": {
            "tags": [],
            "needs_background": "light"
          }
        }
      ]
    },
    {
      "cell_type": "code",
      "metadata": {
        "colab": {
          "base_uri": "https://localhost:8080/",
          "height": 287
        },
        "id": "LaNyiH3VGQxw",
        "outputId": "bfe9d310-5ff7-4201-8a51-1e5eae086571"
      },
      "source": [
        "#Example of Multi plotting\n",
        "\n",
        "\n",
        "fig, axes = plt.subplots(3, 2)\n",
        "TickerDF[0][['Date','Close']].plot(ax = axes[0,0])\n",
        "TickerDF[1][['Date','Close']].plot(ax = axes[1,0])"
      ],
      "execution_count": null,
      "outputs": [
        {
          "output_type": "execute_result",
          "data": {
            "text/plain": [
              "<matplotlib.axes._subplots.AxesSubplot at 0x7f26253d37d0>"
            ]
          },
          "metadata": {
            "tags": []
          },
          "execution_count": 30
        },
        {
          "output_type": "display_data",
          "data": {
            "image/png": "[encoded data removed]",
            "text/plain": [
              "<Figure size 432x288 with 6 Axes>"
            ]
          },
          "metadata": {
            "tags": [],
            "needs_background": "light"
          }
        }
      ]
    },
    {
      "cell_type": "code",
      "metadata": {
        "colab": {
          "base_uri": "https://localhost:8080/",
          "height": 455
        },
        "id": "bTR_cwwLBN9d",
        "outputId": "30f00270-2315-4a0f-dad3-31750d6ca24c"
      },
      "source": [
        "fig, ax = plt.subplots()\n",
        "ax.plot(stockList[stockList['Ticker']=='nio']['Date'],stockList[stockList['Ticker']=='nio']['Close'])\n",
        "fig.plot(stockList[stockList['Ticker']=='tsla']['Date'],stockList[stockList['Ticker']=='tsla']['Close'])"
      ],
      "execution_count": null,
      "outputs": [
        {
          "output_type": "error",
          "ename": "AttributeError",
          "evalue": "ignored",
          "traceback": [
            "\u001b[0;31m---------------------------------------------------------------------------\u001b[0m",
            "\u001b[0;31mAttributeError\u001b[0m                            Traceback (most recent call last)",
            "\u001b[0;32m<ipython-input-10-62bab8b4cf71>\u001b[0m in \u001b[0;36m<module>\u001b[0;34m()\u001b[0m\n\u001b[1;32m      1\u001b[0m \u001b[0mfig\u001b[0m\u001b[0;34m,\u001b[0m \u001b[0max\u001b[0m \u001b[0;34m=\u001b[0m \u001b[0mplt\u001b[0m\u001b[0;34m.\u001b[0m\u001b[0msubplots\u001b[0m\u001b[0;34m(\u001b[0m\u001b[0;34m)\u001b[0m\u001b[0;34m\u001b[0m\u001b[0;34m\u001b[0m\u001b[0m\n\u001b[1;32m      2\u001b[0m \u001b[0max\u001b[0m\u001b[0;34m.\u001b[0m\u001b[0mplot\u001b[0m\u001b[0;34m(\u001b[0m\u001b[0mstockList\u001b[0m\u001b[0;34m[\u001b[0m\u001b[0mstockList\u001b[0m\u001b[0;34m[\u001b[0m\u001b[0;34m'Ticker'\u001b[0m\u001b[0;34m]\u001b[0m\u001b[0;34m==\u001b[0m\u001b[0;34m'nio'\u001b[0m\u001b[0;34m]\u001b[0m\u001b[0;34m[\u001b[0m\u001b[0;34m'Date'\u001b[0m\u001b[0;34m]\u001b[0m\u001b[0;34m,\u001b[0m\u001b[0mstockList\u001b[0m\u001b[0;34m[\u001b[0m\u001b[0mstockList\u001b[0m\u001b[0;34m[\u001b[0m\u001b[0;34m'Ticker'\u001b[0m\u001b[0;34m]\u001b[0m\u001b[0;34m==\u001b[0m\u001b[0;34m'nio'\u001b[0m\u001b[0;34m]\u001b[0m\u001b[0;34m[\u001b[0m\u001b[0;34m'Close'\u001b[0m\u001b[0;34m]\u001b[0m\u001b[0;34m)\u001b[0m\u001b[0;34m\u001b[0m\u001b[0;34m\u001b[0m\u001b[0m\n\u001b[0;32m----> 3\u001b[0;31m \u001b[0mfig\u001b[0m\u001b[0;34m.\u001b[0m\u001b[0mplot\u001b[0m\u001b[0;34m(\u001b[0m\u001b[0mstockList\u001b[0m\u001b[0;34m[\u001b[0m\u001b[0mstockList\u001b[0m\u001b[0;34m[\u001b[0m\u001b[0;34m'Ticker'\u001b[0m\u001b[0;34m]\u001b[0m\u001b[0;34m==\u001b[0m\u001b[0;34m'tsla'\u001b[0m\u001b[0;34m]\u001b[0m\u001b[0;34m[\u001b[0m\u001b[0;34m'Date'\u001b[0m\u001b[0;34m]\u001b[0m\u001b[0;34m,\u001b[0m\u001b[0mstockList\u001b[0m\u001b[0;34m[\u001b[0m\u001b[0mstockList\u001b[0m\u001b[0;34m[\u001b[0m\u001b[0;34m'Ticker'\u001b[0m\u001b[0;34m]\u001b[0m\u001b[0;34m==\u001b[0m\u001b[0;34m'tsla'\u001b[0m\u001b[0;34m]\u001b[0m\u001b[0;34m[\u001b[0m\u001b[0;34m'Close'\u001b[0m\u001b[0;34m]\u001b[0m\u001b[0;34m)\u001b[0m\u001b[0;34m\u001b[0m\u001b[0;34m\u001b[0m\u001b[0m\n\u001b[0m",
            "\u001b[0;31mAttributeError\u001b[0m: 'Figure' object has no attribute 'plot'"
          ]
        },
        {
          "output_type": "display_data",
          "data": {
            "image/png": "[encoded data removed]",
            "text/plain": [
              "<Figure size 432x288 with 1 Axes>"
            ]
          },
          "metadata": {
            "tags": [],
            "needs_background": "light"
          }
        }
      ]
    },
    {
      "cell_type": "code",
      "metadata": {
        "colab": {
          "base_uri": "https://localhost:8080/",
          "height": 1000
        },
        "id": "PRJdwQCP8tTK",
        "outputId": "b57897b2-4057-4fe2-b0a2-6e42686eeebd"
      },
      "source": [
        "fig = plt.figure()\n",
        "n = 1                                                                           #Axes count\n",
        "\n",
        "print(list(enumerate(TickerDF)))"
      ],
      "execution_count": null,
      "outputs": [
        {
          "output_type": "stream",
          "text": [
            "[(0,            Date Ticker       Open  ...     Volume  Dividends  Stock Splits\n",
            "0    12/09/2018    nio   6.000000  ...   66849000        0.0           0.0\n",
            "1    13/09/2018    nio   6.620000  ...  158346500        0.0           0.0\n",
            "2    14/09/2018    nio  12.660000  ...  172473600        0.0           0.0\n",
            "3    17/09/2018    nio   9.610000  ...   56323900        0.0           0.0\n",
            "4    18/09/2018    nio   8.730000  ...   41827600        0.0           0.0\n",
            "..          ...    ...        ...  ...        ...        ...           ...\n",
            "678  24/05/2021    nio  34.259998  ...   67244400        0.0           0.0\n",
            "679  25/05/2021    nio  36.320000  ...   76628000        0.0           0.0\n",
            "680  26/05/2021    nio  36.250000  ...   55929000        0.0           0.0\n",
            "681  27/05/2021    nio  37.950001  ...   53064400        0.0           0.0\n",
            "682  28/05/2021    nio  38.740002  ...   58159400        0.0           0.0\n",
            "\n",
            "[683 rows x 10 columns]), (1,             Date Ticker        Open  ...    Volume  Dividends  Stock Splits\n",
            "0     29/06/2010   tsla    3.800000  ...  93831500        0.0           0.0\n",
            "1     30/06/2010   tsla    5.158000  ...  85935500        0.0           0.0\n",
            "2     01/07/2010   tsla    5.000000  ...  41094000        0.0           0.0\n",
            "3     02/07/2010   tsla    4.600000  ...  25699000        0.0           0.0\n",
            "4     06/07/2010   tsla    4.000000  ...  34334500        0.0           0.0\n",
            "...          ...    ...         ...  ...       ...        ...           ...\n",
            "2744  24/05/2021   tsla  581.599976  ...  34558100        0.0           0.0\n",
            "2745  25/05/2021   tsla  607.309998  ...  28005900        0.0           0.0\n",
            "2746  26/05/2021   tsla  607.559998  ...  28639300        0.0           0.0\n",
            "2747  27/05/2021   tsla  620.239990  ...  26370600        0.0           0.0\n",
            "2748  28/05/2021   tsla  628.500000  ...  22691200        0.0           0.0\n",
            "\n",
            "[2749 rows x 10 columns]), (2,             Date Ticker        Open  ...      Volume  Dividends  Stock Splits\n",
            "0     13/03/1986   msft    0.056108  ...  1031788800        0.0           0.0\n",
            "1     14/03/1986   msft    0.061608  ...   308160000        0.0           0.0\n",
            "2     17/03/1986   msft    0.063809  ...   133171200        0.0           0.0\n",
            "3     18/03/1986   msft    0.064909  ...    67766400        0.0           0.0\n",
            "4     19/03/1986   msft    0.063258  ...    47894400        0.0           0.0\n",
            "...          ...    ...         ...  ...         ...        ...           ...\n",
            "8871  24/05/2021   msft  247.789993  ...    21411500        0.0           0.0\n",
            "8872  25/05/2021   msft  251.770004  ...    17704300        0.0           0.0\n",
            "8873  26/05/2021   msft  251.429993  ...    17771600        0.0           0.0\n",
            "8874  27/05/2021   msft  251.169998  ...    24426200        0.0           0.0\n",
            "8875  28/05/2021   msft  251.000000  ...    18270200        0.0           0.0\n",
            "\n",
            "[8876 rows x 10 columns]), (3,            Date Ticker       Open  ...     Volume  Dividends  Stock Splits\n",
            "0    30/09/2020   pltr  10.000000  ...  338584400        0.0           0.0\n",
            "1    01/10/2020   pltr   9.690000  ...  124297600        0.0           0.0\n",
            "2    02/10/2020   pltr   9.060000  ...   55018300        0.0           0.0\n",
            "3    05/10/2020   pltr   9.430000  ...   36316900        0.0           0.0\n",
            "4    06/10/2020   pltr   9.040000  ...   90864000        0.0           0.0\n",
            "..          ...    ...        ...  ...        ...        ...           ...\n",
            "162  24/05/2021   pltr  21.059999  ...   46596800        0.0           0.0\n",
            "163  25/05/2021   pltr  21.420000  ...   49890800        0.0           0.0\n",
            "164  26/05/2021   pltr  21.580000  ...   42958300        0.0           0.0\n",
            "165  27/05/2021   pltr  22.010000  ...   76230500        0.0           0.0\n",
            "166  28/05/2021   pltr  23.000000  ...  111703500        0.0           0.0\n",
            "\n",
            "[167 rows x 10 columns]), (4,             Date Ticker        Open  ...    Volume  Dividends  Stock Splits\n",
            "0     03/12/2014   ocgn  681.000000  ...     27305        0.0           0.0\n",
            "1     04/12/2014   ocgn  718.200012  ...      4412        0.0           0.0\n",
            "2     05/12/2014   ocgn  660.000000  ...      5295        0.0           0.0\n",
            "3     08/12/2014   ocgn  666.000000  ...       965        0.0           0.0\n",
            "4     09/12/2014   ocgn  645.000000  ...       437        0.0           0.0\n",
            "...          ...    ...         ...  ...       ...        ...           ...\n",
            "1628  24/05/2021   ocgn    8.709000  ...  26900300        0.0           0.0\n",
            "1629  25/05/2021   ocgn    8.550000  ...  41254500        0.0           0.0\n",
            "1630  26/05/2021   ocgn    7.340000  ...  42872800        0.0           0.0\n",
            "1631  27/05/2021   ocgn    7.730000  ...  58546500        0.0           0.0\n",
            "1632  28/05/2021   ocgn    8.870000  ...  38422900        0.0           0.0\n",
            "\n",
            "[1633 rows x 10 columns])]\n"
          ],
          "name": "stdout"
        },
        {
          "output_type": "display_data",
          "data": {
            "text/plain": [
              "<Figure size 432x288 with 0 Axes>"
            ]
          },
          "metadata": {
            "tags": []
          }
        }
      ]
    },
    {
      "cell_type": "code",
      "metadata": {
        "id": "2U5vrb6rcL8g",
        "colab": {
          "base_uri": "https://localhost:8080/",
          "height": 419
        },
        "outputId": "736ab232-2e6a-4987-8e89-a4b722af6ea3"
      },
      "source": [
        "nio_tidied = pd.melt(nio,id_vars=['Volume','Dividends','Stock Splits','Date','Ticker'],\n",
        "                     var_name='Position',value_name = 'Price')\n",
        "\n",
        "nio_tidied"
      ],
      "execution_count": null,
      "outputs": [
        {
          "output_type": "execute_result",
          "data": {
            "text/html": [
              "<div>\n",
              "<style scoped>\n",
              "    .dataframe tbody tr th:only-of-type {\n",
              "        vertical-align: middle;\n",
              "    }\n",
              "\n",
              "    .dataframe tbody tr th {\n",
              "        vertical-align: top;\n",
              "    }\n",
              "\n",
              "    .dataframe thead th {\n",
              "        text-align: right;\n",
              "    }\n",
              "</style>\n",
              "<table border=\"1\" class=\"dataframe\">\n",
              "  <thead>\n",
              "    <tr style=\"text-align: right;\">\n",
              "      <th></th>\n",
              "      <th>Volume</th>\n",
              "      <th>Dividends</th>\n",
              "      <th>Stock Splits</th>\n",
              "      <th>Date</th>\n",
              "      <th>Ticker</th>\n",
              "      <th>Position</th>\n",
              "      <th>Price</th>\n",
              "    </tr>\n",
              "  </thead>\n",
              "  <tbody>\n",
              "    <tr>\n",
              "      <th>0</th>\n",
              "      <td>59847900</td>\n",
              "      <td>0</td>\n",
              "      <td>0</td>\n",
              "      <td>26/05/2020</td>\n",
              "      <td>nio</td>\n",
              "      <td>Open</td>\n",
              "      <td>3.420000</td>\n",
              "    </tr>\n",
              "    <tr>\n",
              "      <th>1</th>\n",
              "      <td>70718900</td>\n",
              "      <td>0</td>\n",
              "      <td>0</td>\n",
              "      <td>27/05/2020</td>\n",
              "      <td>nio</td>\n",
              "      <td>Open</td>\n",
              "      <td>4.010000</td>\n",
              "    </tr>\n",
              "    <tr>\n",
              "      <th>2</th>\n",
              "      <td>62756900</td>\n",
              "      <td>0</td>\n",
              "      <td>0</td>\n",
              "      <td>28/05/2020</td>\n",
              "      <td>nio</td>\n",
              "      <td>Open</td>\n",
              "      <td>3.980000</td>\n",
              "    </tr>\n",
              "    <tr>\n",
              "      <th>3</th>\n",
              "      <td>50303000</td>\n",
              "      <td>0</td>\n",
              "      <td>0</td>\n",
              "      <td>29/05/2020</td>\n",
              "      <td>nio</td>\n",
              "      <td>Open</td>\n",
              "      <td>3.820000</td>\n",
              "    </tr>\n",
              "    <tr>\n",
              "      <th>4</th>\n",
              "      <td>69222000</td>\n",
              "      <td>0</td>\n",
              "      <td>0</td>\n",
              "      <td>01/06/2020</td>\n",
              "      <td>nio</td>\n",
              "      <td>Open</td>\n",
              "      <td>4.000000</td>\n",
              "    </tr>\n",
              "    <tr>\n",
              "      <th>...</th>\n",
              "      <td>...</td>\n",
              "      <td>...</td>\n",
              "      <td>...</td>\n",
              "      <td>...</td>\n",
              "      <td>...</td>\n",
              "      <td>...</td>\n",
              "      <td>...</td>\n",
              "    </tr>\n",
              "    <tr>\n",
              "      <th>1265</th>\n",
              "      <td>48991700</td>\n",
              "      <td>0</td>\n",
              "      <td>0</td>\n",
              "      <td>20/05/2021</td>\n",
              "      <td>nio</td>\n",
              "      <td>High-Low</td>\n",
              "      <td>0.869999</td>\n",
              "    </tr>\n",
              "    <tr>\n",
              "      <th>1266</th>\n",
              "      <td>49419300</td>\n",
              "      <td>0</td>\n",
              "      <td>0</td>\n",
              "      <td>21/05/2021</td>\n",
              "      <td>nio</td>\n",
              "      <td>High-Low</td>\n",
              "      <td>0.910000</td>\n",
              "    </tr>\n",
              "    <tr>\n",
              "      <th>1267</th>\n",
              "      <td>67244400</td>\n",
              "      <td>0</td>\n",
              "      <td>0</td>\n",
              "      <td>24/05/2021</td>\n",
              "      <td>nio</td>\n",
              "      <td>High-Low</td>\n",
              "      <td>2.930000</td>\n",
              "    </tr>\n",
              "    <tr>\n",
              "      <th>1268</th>\n",
              "      <td>76545800</td>\n",
              "      <td>0</td>\n",
              "      <td>0</td>\n",
              "      <td>25/05/2021</td>\n",
              "      <td>nio</td>\n",
              "      <td>High-Low</td>\n",
              "      <td>1.950001</td>\n",
              "    </tr>\n",
              "    <tr>\n",
              "      <th>1269</th>\n",
              "      <td>31757357</td>\n",
              "      <td>0</td>\n",
              "      <td>0</td>\n",
              "      <td>26/05/2021</td>\n",
              "      <td>nio</td>\n",
              "      <td>High-Low</td>\n",
              "      <td>1.706600</td>\n",
              "    </tr>\n",
              "  </tbody>\n",
              "</table>\n",
              "<p>1270 rows × 7 columns</p>\n",
              "</div>"
            ],
            "text/plain": [
              "        Volume  Dividends  Stock Splits        Date Ticker  Position     Price\n",
              "0     59847900          0             0  26/05/2020    nio      Open  3.420000\n",
              "1     70718900          0             0  27/05/2020    nio      Open  4.010000\n",
              "2     62756900          0             0  28/05/2020    nio      Open  3.980000\n",
              "3     50303000          0             0  29/05/2020    nio      Open  3.820000\n",
              "4     69222000          0             0  01/06/2020    nio      Open  4.000000\n",
              "...        ...        ...           ...         ...    ...       ...       ...\n",
              "1265  48991700          0             0  20/05/2021    nio  High-Low  0.869999\n",
              "1266  49419300          0             0  21/05/2021    nio  High-Low  0.910000\n",
              "1267  67244400          0             0  24/05/2021    nio  High-Low  2.930000\n",
              "1268  76545800          0             0  25/05/2021    nio  High-Low  1.950001\n",
              "1269  31757357          0             0  26/05/2021    nio  High-Low  1.706600\n",
              "\n",
              "[1270 rows x 7 columns]"
            ]
          },
          "metadata": {
            "tags": []
          },
          "execution_count": 16
        }
      ]
    }
  ]
}