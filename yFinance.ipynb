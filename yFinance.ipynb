{
  "nbformat": 4,
  "nbformat_minor": 0,
  "metadata": {
    "colab": {
      "name": "yFinance.ipynb",
      "provenance": [],
      "toc_visible": true,
      "authorship_tag": "ABX9TyNEkyNalZUG4UxvPi5AvT5h",
      "include_colab_link": true
    },
    "kernelspec": {
      "name": "python3",
      "display_name": "Python 3"
    },
    "language_info": {
      "name": "python"
    }
  },
  "cells": [
    {
      "cell_type": "markdown",
      "metadata": {
        "id": "view-in-github",
        "colab_type": "text"
      },
      "source": [
        "<a href=\"https://colab.research.google.com/github/Konoko2004/TheProject/blob/main/yFinance.ipynb\" target=\"_parent\"><img src=\"https://colab.research.google.com/assets/colab-badge.svg\" alt=\"Open In Colab\"/></a>"
      ]
    },
    {
      "cell_type": "code",
      "metadata": {
        "id": "RWjRZgqrJXqk",
        "colab": {
          "base_uri": "https://localhost:8080/"
        },
        "outputId": "8f9a5b16-0f76-478d-c853-6925e01ac1dd"
      },
      "source": [
        "#Install related libraries\n",
        "\n",
        "!pip install yfinance\n",
        "!pip install dash\n",
        "!pip install matplotlib\n",
        "import seaborn as sns\n",
        "import matplotlib.pyplot as plt\n",
        "import pandas as pd\n",
        "import yfinance as yf\n",
        "from datetime import date"
      ],
      "execution_count": 14,
      "outputs": [
        {
          "output_type": "stream",
          "text": [
            "Requirement already satisfied: yfinance in /usr/local/lib/python3.7/dist-packages (0.1.59)\n",
            "Requirement already satisfied: numpy>=1.15 in /usr/local/lib/python3.7/dist-packages (from yfinance) (1.19.5)\n",
            "Requirement already satisfied: lxml>=4.5.1 in /usr/local/lib/python3.7/dist-packages (from yfinance) (4.6.3)\n",
            "Requirement already satisfied: requests>=2.20 in /usr/local/lib/python3.7/dist-packages (from yfinance) (2.23.0)\n",
            "Requirement already satisfied: pandas>=0.24 in /usr/local/lib/python3.7/dist-packages (from yfinance) (1.1.5)\n",
            "Requirement already satisfied: multitasking>=0.0.7 in /usr/local/lib/python3.7/dist-packages (from yfinance) (0.0.9)\n",
            "Requirement already satisfied: certifi>=2017.4.17 in /usr/local/lib/python3.7/dist-packages (from requests>=2.20->yfinance) (2020.12.5)\n",
            "Requirement already satisfied: chardet<4,>=3.0.2 in /usr/local/lib/python3.7/dist-packages (from requests>=2.20->yfinance) (3.0.4)\n",
            "Requirement already satisfied: urllib3!=1.25.0,!=1.25.1,<1.26,>=1.21.1 in /usr/local/lib/python3.7/dist-packages (from requests>=2.20->yfinance) (1.24.3)\n",
            "Requirement already satisfied: idna<3,>=2.5 in /usr/local/lib/python3.7/dist-packages (from requests>=2.20->yfinance) (2.10)\n",
            "Requirement already satisfied: python-dateutil>=2.7.3 in /usr/local/lib/python3.7/dist-packages (from pandas>=0.24->yfinance) (2.8.1)\n",
            "Requirement already satisfied: pytz>=2017.2 in /usr/local/lib/python3.7/dist-packages (from pandas>=0.24->yfinance) (2018.9)\n",
            "Requirement already satisfied: six>=1.5 in /usr/local/lib/python3.7/dist-packages (from python-dateutil>=2.7.3->pandas>=0.24->yfinance) (1.15.0)\n",
            "Requirement already satisfied: dash in /usr/local/lib/python3.7/dist-packages (1.20.0)\n",
            "Requirement already satisfied: dash-html-components==1.1.3 in /usr/local/lib/python3.7/dist-packages (from dash) (1.1.3)\n",
            "Requirement already satisfied: plotly in /usr/local/lib/python3.7/dist-packages (from dash) (4.4.1)\n",
            "Requirement already satisfied: dash-core-components==1.16.0 in /usr/local/lib/python3.7/dist-packages (from dash) (1.16.0)\n",
            "Requirement already satisfied: dash-renderer==1.9.1 in /usr/local/lib/python3.7/dist-packages (from dash) (1.9.1)\n",
            "Requirement already satisfied: Flask>=1.0.4 in /usr/local/lib/python3.7/dist-packages (from dash) (1.1.4)\n",
            "Requirement already satisfied: dash-table==4.11.3 in /usr/local/lib/python3.7/dist-packages (from dash) (4.11.3)\n",
            "Requirement already satisfied: flask-compress in /usr/local/lib/python3.7/dist-packages (from dash) (1.9.0)\n",
            "Requirement already satisfied: future in /usr/local/lib/python3.7/dist-packages (from dash) (0.16.0)\n",
            "Requirement already satisfied: six in /usr/local/lib/python3.7/dist-packages (from plotly->dash) (1.15.0)\n",
            "Requirement already satisfied: retrying>=1.3.3 in /usr/local/lib/python3.7/dist-packages (from plotly->dash) (1.3.3)\n",
            "Requirement already satisfied: click<8.0,>=5.1 in /usr/local/lib/python3.7/dist-packages (from Flask>=1.0.4->dash) (7.1.2)\n",
            "Requirement already satisfied: itsdangerous<2.0,>=0.24 in /usr/local/lib/python3.7/dist-packages (from Flask>=1.0.4->dash) (1.1.0)\n",
            "Requirement already satisfied: Werkzeug<2.0,>=0.15 in /usr/local/lib/python3.7/dist-packages (from Flask>=1.0.4->dash) (1.0.1)\n",
            "Requirement already satisfied: Jinja2<3.0,>=2.10.1 in /usr/local/lib/python3.7/dist-packages (from Flask>=1.0.4->dash) (2.11.3)\n",
            "Requirement already satisfied: brotli in /usr/local/lib/python3.7/dist-packages (from flask-compress->dash) (1.0.9)\n",
            "Requirement already satisfied: MarkupSafe>=0.23 in /usr/local/lib/python3.7/dist-packages (from Jinja2<3.0,>=2.10.1->Flask>=1.0.4->dash) (2.0.1)\n",
            "Requirement already satisfied: matplotlib in /usr/local/lib/python3.7/dist-packages (3.2.2)\n",
            "Requirement already satisfied: pyparsing!=2.0.4,!=2.1.2,!=2.1.6,>=2.0.1 in /usr/local/lib/python3.7/dist-packages (from matplotlib) (2.4.7)\n",
            "Requirement already satisfied: cycler>=0.10 in /usr/local/lib/python3.7/dist-packages (from matplotlib) (0.10.0)\n",
            "Requirement already satisfied: kiwisolver>=1.0.1 in /usr/local/lib/python3.7/dist-packages (from matplotlib) (1.3.1)\n",
            "Requirement already satisfied: python-dateutil>=2.1 in /usr/local/lib/python3.7/dist-packages (from matplotlib) (2.8.1)\n",
            "Requirement already satisfied: numpy>=1.11 in /usr/local/lib/python3.7/dist-packages (from matplotlib) (1.19.5)\n",
            "Requirement already satisfied: six in /usr/local/lib/python3.7/dist-packages (from cycler>=0.10->matplotlib) (1.15.0)\n"
          ],
          "name": "stdout"
        }
      ]
    },
    {
      "cell_type": "code",
      "metadata": {
        "id": "qnYk1bAfHPUM"
      },
      "source": [
        ""
      ],
      "execution_count": null,
      "outputs": []
    },
    {
      "cell_type": "code",
      "metadata": {
        "id": "J7LwPCoNJJWX",
        "colab": {
          "base_uri": "https://localhost:8080/"
        },
        "outputId": "428d0583-0d82-41ce-c98b-00c1fb69c1c9"
      },
      "source": [
        "df1 = pd.DataFrame([[1,2,3,4]],\n",
        "                   columns = ['a','b','c','d'])\n",
        "df2 = pd.DataFrame([[1,2,3,4,5],[1,4,9,16,25],[1,16,87,12,41]],\n",
        "                   columns = ['a','b','c','d','e'])\n",
        "\n",
        "print(pd.concat([df1,df2],axis=1))"
      ],
      "execution_count": null,
      "outputs": [
        {
          "output_type": "stream",
          "text": [
            "     a    b    c    d  a   b   c   d   e\n",
            "0  1.0  2.0  3.0  4.0  1   2   3   4   5\n",
            "1  NaN  NaN  NaN  NaN  1   4   9  16  25\n",
            "2  NaN  NaN  NaN  NaN  1  16  87  12  41\n"
          ],
          "name": "stdout"
        }
      ]
    },
    {
      "cell_type": "code",
      "metadata": {
        "id": "IzdDIBKt79JG"
      },
      "source": [
        "# Function to create a DF of a ticker. We will add them to a class of stocks later.\n",
        "\n",
        "# def create_Stock(tickerName):\n",
        "#     stock = yf.Ticker(tickerName)\n",
        "#     stockhistory = stock.history(period = '1y')\n",
        "#     stock_df = pd.DataFrame(stockhistory)\n",
        "#     stock_df['Ticker'] = tickerName\n",
        "#     stock_df.reset_index(inplace = True) # push date index to become a column.\n",
        "#     stock_df['Date'] = stock_df['Date'].dt.strftime('%d/%m/%Y')  #dd/mm/yyyy format.\n",
        "#     return stock_df"
      ],
      "execution_count": null,
      "outputs": []
    },
    {
      "cell_type": "code",
      "metadata": {
        "id": "Kvy8h2vh8Bmm"
      },
      "source": [
        "def create_Stock(*tickerName):\n",
        "\n",
        "    frames = []\n",
        "\n",
        "    for i in tickerName:\n",
        "        stock = yf.Ticker(i)\n",
        "        stockhistory = stock.history(period = 'max')\n",
        "        stock_df = pd.DataFrame(stockhistory)\n",
        "        stock_df['Ticker'] = i\n",
        "        stock_df.reset_index(inplace = True)                                    #push date index to become a column\n",
        "        stock_df['Date'] = stock_df['Date'].dt.strftime('%d/%m/%Y')             #dd/mm/yyyy format\n",
        "        frames.append(stock_df)\n",
        "    \n",
        "    return frames\n",
        "        \n",
        "    "
      ],
      "execution_count": 15,
      "outputs": []
    },
    {
      "cell_type": "code",
      "metadata": {
        "colab": {
          "base_uri": "https://localhost:8080/"
        },
        "id": "3WxDl1J88Ms9",
        "outputId": "2f94800d-6b7c-4f34-f4eb-9d3d11c7e773"
      },
      "source": [
        "stockList = create_Stock('nio','tsla','msft','pltr','ocgn')\n",
        "stockList = pd.concat(stockList)\n",
        "stockList['High-Low'] = stockList['High'] - stockList['Low']\n",
        "stockList = stockList[['Date','Ticker','Open','High','Low','Close','High-Low','Volume','Dividends','Stock Splits']]\n",
        "stockList['Ticker'].unique()"
      ],
      "execution_count": 16,
      "outputs": [
        {
          "output_type": "execute_result",
          "data": {
            "text/plain": [
              "array(['nio', 'tsla', 'msft', 'pltr', 'ocgn'], dtype=object)"
            ]
          },
          "metadata": {
            "tags": []
          },
          "execution_count": 16
        }
      ]
    },
    {
      "cell_type": "code",
      "metadata": {
        "colab": {
          "base_uri": "https://localhost:8080/",
          "height": 269
        },
        "id": "5irWWVYrMhmF",
        "outputId": "dc26bf5e-83bb-4b97-aa8e-c89db09c39dc"
      },
      "source": [
        "#Store each ticker in a list with seperate index\n",
        "#so that we can plot each stock later on\n",
        "\n",
        "TickerDF = []\n",
        "stock_count = len(stockList['Ticker'].unique())\n",
        "for i in stockList['Ticker'].unique():\n",
        "    TickerDF.append(stockList[stockList['Ticker'] ==i])\n",
        "\n",
        "fig =plt.figure()\n",
        "\n",
        "axes1 = fig.add_subplot(2,2,1)\n",
        "axes2 = fig.add_subplot(2,2,2)\n",
        "axes3 = fig.add_subplot(2,2,3)\n",
        "axes4 = fig.add_subplot(2,2,4)"
      ],
      "execution_count": 25,
      "outputs": [
        {
          "output_type": "display_data",
          "data": {
            "image/png": "[encoded data removed]",
            "text/plain": [
              "<Figure size 432x288 with 4 Axes>"
            ]
          },
          "metadata": {
            "tags": [],
            "needs_background": "light"
          }
        }
      ]
    },
    {
      "cell_type": "code",
      "metadata": {
        "colab": {
          "base_uri": "https://localhost:8080/",
          "height": 419
        },
        "id": "DJAx_Q127BqT",
        "outputId": "a949eb12-a86a-4603-a788-6df4571ee38f"
      },
      "source": [
        "nio = create_Stock(tickerName = 'nio')\n",
        "\n",
        "nio['High-Low'] = nio['High']-nio['Low']\n",
        "nio"
      ],
      "execution_count": null,
      "outputs": [
        {
          "output_type": "execute_result",
          "data": {
            "text/html": [
              "<div>\n",
              "<style scoped>\n",
              "    .dataframe tbody tr th:only-of-type {\n",
              "        vertical-align: middle;\n",
              "    }\n",
              "\n",
              "    .dataframe tbody tr th {\n",
              "        vertical-align: top;\n",
              "    }\n",
              "\n",
              "    .dataframe thead th {\n",
              "        text-align: right;\n",
              "    }\n",
              "</style>\n",
              "<table border=\"1\" class=\"dataframe\">\n",
              "  <thead>\n",
              "    <tr style=\"text-align: right;\">\n",
              "      <th></th>\n",
              "      <th>Date</th>\n",
              "      <th>Open</th>\n",
              "      <th>High</th>\n",
              "      <th>Low</th>\n",
              "      <th>Close</th>\n",
              "      <th>Volume</th>\n",
              "      <th>Dividends</th>\n",
              "      <th>Stock Splits</th>\n",
              "      <th>Ticker</th>\n",
              "      <th>High-Low</th>\n",
              "    </tr>\n",
              "  </thead>\n",
              "  <tbody>\n",
              "    <tr>\n",
              "      <th>0</th>\n",
              "      <td>26/05/2020</td>\n",
              "      <td>3.420000</td>\n",
              "      <td>3.830000</td>\n",
              "      <td>3.400000</td>\n",
              "      <td>3.820000</td>\n",
              "      <td>59847900</td>\n",
              "      <td>0</td>\n",
              "      <td>0</td>\n",
              "      <td>nio</td>\n",
              "      <td>0.430000</td>\n",
              "    </tr>\n",
              "    <tr>\n",
              "      <th>1</th>\n",
              "      <td>27/05/2020</td>\n",
              "      <td>4.010000</td>\n",
              "      <td>4.200000</td>\n",
              "      <td>3.900000</td>\n",
              "      <td>4.170000</td>\n",
              "      <td>70718900</td>\n",
              "      <td>0</td>\n",
              "      <td>0</td>\n",
              "      <td>nio</td>\n",
              "      <td>0.300000</td>\n",
              "    </tr>\n",
              "    <tr>\n",
              "      <th>2</th>\n",
              "      <td>28/05/2020</td>\n",
              "      <td>3.980000</td>\n",
              "      <td>4.120000</td>\n",
              "      <td>3.750000</td>\n",
              "      <td>3.830000</td>\n",
              "      <td>62756900</td>\n",
              "      <td>0</td>\n",
              "      <td>0</td>\n",
              "      <td>nio</td>\n",
              "      <td>0.370000</td>\n",
              "    </tr>\n",
              "    <tr>\n",
              "      <th>3</th>\n",
              "      <td>29/05/2020</td>\n",
              "      <td>3.820000</td>\n",
              "      <td>4.000000</td>\n",
              "      <td>3.730000</td>\n",
              "      <td>3.980000</td>\n",
              "      <td>50303000</td>\n",
              "      <td>0</td>\n",
              "      <td>0</td>\n",
              "      <td>nio</td>\n",
              "      <td>0.270000</td>\n",
              "    </tr>\n",
              "    <tr>\n",
              "      <th>4</th>\n",
              "      <td>01/06/2020</td>\n",
              "      <td>4.000000</td>\n",
              "      <td>4.330000</td>\n",
              "      <td>3.960000</td>\n",
              "      <td>4.260000</td>\n",
              "      <td>69222000</td>\n",
              "      <td>0</td>\n",
              "      <td>0</td>\n",
              "      <td>nio</td>\n",
              "      <td>0.370000</td>\n",
              "    </tr>\n",
              "    <tr>\n",
              "      <th>...</th>\n",
              "      <td>...</td>\n",
              "      <td>...</td>\n",
              "      <td>...</td>\n",
              "      <td>...</td>\n",
              "      <td>...</td>\n",
              "      <td>...</td>\n",
              "      <td>...</td>\n",
              "      <td>...</td>\n",
              "      <td>...</td>\n",
              "      <td>...</td>\n",
              "    </tr>\n",
              "    <tr>\n",
              "      <th>249</th>\n",
              "      <td>20/05/2021</td>\n",
              "      <td>33.980000</td>\n",
              "      <td>34.509998</td>\n",
              "      <td>33.639999</td>\n",
              "      <td>34.330002</td>\n",
              "      <td>48991700</td>\n",
              "      <td>0</td>\n",
              "      <td>0</td>\n",
              "      <td>nio</td>\n",
              "      <td>0.869999</td>\n",
              "    </tr>\n",
              "    <tr>\n",
              "      <th>250</th>\n",
              "      <td>21/05/2021</td>\n",
              "      <td>34.660000</td>\n",
              "      <td>34.779999</td>\n",
              "      <td>33.869999</td>\n",
              "      <td>34.060001</td>\n",
              "      <td>49419300</td>\n",
              "      <td>0</td>\n",
              "      <td>0</td>\n",
              "      <td>nio</td>\n",
              "      <td>0.910000</td>\n",
              "    </tr>\n",
              "    <tr>\n",
              "      <th>251</th>\n",
              "      <td>24/05/2021</td>\n",
              "      <td>34.259998</td>\n",
              "      <td>36.490002</td>\n",
              "      <td>33.560001</td>\n",
              "      <td>35.889999</td>\n",
              "      <td>67244400</td>\n",
              "      <td>0</td>\n",
              "      <td>0</td>\n",
              "      <td>nio</td>\n",
              "      <td>2.930000</td>\n",
              "    </tr>\n",
              "    <tr>\n",
              "      <th>252</th>\n",
              "      <td>25/05/2021</td>\n",
              "      <td>36.320000</td>\n",
              "      <td>37.639999</td>\n",
              "      <td>35.689999</td>\n",
              "      <td>36.070000</td>\n",
              "      <td>76545800</td>\n",
              "      <td>0</td>\n",
              "      <td>0</td>\n",
              "      <td>nio</td>\n",
              "      <td>1.950001</td>\n",
              "    </tr>\n",
              "    <tr>\n",
              "      <th>253</th>\n",
              "      <td>26/05/2021</td>\n",
              "      <td>36.250000</td>\n",
              "      <td>37.779999</td>\n",
              "      <td>36.073399</td>\n",
              "      <td>37.650002</td>\n",
              "      <td>31757357</td>\n",
              "      <td>0</td>\n",
              "      <td>0</td>\n",
              "      <td>nio</td>\n",
              "      <td>1.706600</td>\n",
              "    </tr>\n",
              "  </tbody>\n",
              "</table>\n",
              "<p>254 rows × 10 columns</p>\n",
              "</div>"
            ],
            "text/plain": [
              "           Date       Open       High  ...  Stock Splits  Ticker  High-Low\n",
              "0    26/05/2020   3.420000   3.830000  ...             0     nio  0.430000\n",
              "1    27/05/2020   4.010000   4.200000  ...             0     nio  0.300000\n",
              "2    28/05/2020   3.980000   4.120000  ...             0     nio  0.370000\n",
              "3    29/05/2020   3.820000   4.000000  ...             0     nio  0.270000\n",
              "4    01/06/2020   4.000000   4.330000  ...             0     nio  0.370000\n",
              "..          ...        ...        ...  ...           ...     ...       ...\n",
              "249  20/05/2021  33.980000  34.509998  ...             0     nio  0.869999\n",
              "250  21/05/2021  34.660000  34.779999  ...             0     nio  0.910000\n",
              "251  24/05/2021  34.259998  36.490002  ...             0     nio  2.930000\n",
              "252  25/05/2021  36.320000  37.639999  ...             0     nio  1.950001\n",
              "253  26/05/2021  36.250000  37.779999  ...             0     nio  1.706600\n",
              "\n",
              "[254 rows x 10 columns]"
            ]
          },
          "metadata": {
            "tags": []
          },
          "execution_count": 13
        }
      ]
    },
    {
      "cell_type": "code",
      "metadata": {
        "id": "2U5vrb6rcL8g",
        "colab": {
          "base_uri": "https://localhost:8080/",
          "height": 419
        },
        "outputId": "736ab232-2e6a-4987-8e89-a4b722af6ea3"
      },
      "source": [
        "nio_tidied = pd.melt(nio,id_vars=['Volume','Dividends','Stock Splits','Date','Ticker'],\n",
        "                     var_name='Position',value_name = 'Price')\n",
        "\n",
        "nio_tidied"
      ],
      "execution_count": null,
      "outputs": [
        {
          "output_type": "execute_result",
          "data": {
            "text/html": [
              "<div>\n",
              "<style scoped>\n",
              "    .dataframe tbody tr th:only-of-type {\n",
              "        vertical-align: middle;\n",
              "    }\n",
              "\n",
              "    .dataframe tbody tr th {\n",
              "        vertical-align: top;\n",
              "    }\n",
              "\n",
              "    .dataframe thead th {\n",
              "        text-align: right;\n",
              "    }\n",
              "</style>\n",
              "<table border=\"1\" class=\"dataframe\">\n",
              "  <thead>\n",
              "    <tr style=\"text-align: right;\">\n",
              "      <th></th>\n",
              "      <th>Volume</th>\n",
              "      <th>Dividends</th>\n",
              "      <th>Stock Splits</th>\n",
              "      <th>Date</th>\n",
              "      <th>Ticker</th>\n",
              "      <th>Position</th>\n",
              "      <th>Price</th>\n",
              "    </tr>\n",
              "  </thead>\n",
              "  <tbody>\n",
              "    <tr>\n",
              "      <th>0</th>\n",
              "      <td>59847900</td>\n",
              "      <td>0</td>\n",
              "      <td>0</td>\n",
              "      <td>26/05/2020</td>\n",
              "      <td>nio</td>\n",
              "      <td>Open</td>\n",
              "      <td>3.420000</td>\n",
              "    </tr>\n",
              "    <tr>\n",
              "      <th>1</th>\n",
              "      <td>70718900</td>\n",
              "      <td>0</td>\n",
              "      <td>0</td>\n",
              "      <td>27/05/2020</td>\n",
              "      <td>nio</td>\n",
              "      <td>Open</td>\n",
              "      <td>4.010000</td>\n",
              "    </tr>\n",
              "    <tr>\n",
              "      <th>2</th>\n",
              "      <td>62756900</td>\n",
              "      <td>0</td>\n",
              "      <td>0</td>\n",
              "      <td>28/05/2020</td>\n",
              "      <td>nio</td>\n",
              "      <td>Open</td>\n",
              "      <td>3.980000</td>\n",
              "    </tr>\n",
              "    <tr>\n",
              "      <th>3</th>\n",
              "      <td>50303000</td>\n",
              "      <td>0</td>\n",
              "      <td>0</td>\n",
              "      <td>29/05/2020</td>\n",
              "      <td>nio</td>\n",
              "      <td>Open</td>\n",
              "      <td>3.820000</td>\n",
              "    </tr>\n",
              "    <tr>\n",
              "      <th>4</th>\n",
              "      <td>69222000</td>\n",
              "      <td>0</td>\n",
              "      <td>0</td>\n",
              "      <td>01/06/2020</td>\n",
              "      <td>nio</td>\n",
              "      <td>Open</td>\n",
              "      <td>4.000000</td>\n",
              "    </tr>\n",
              "    <tr>\n",
              "      <th>...</th>\n",
              "      <td>...</td>\n",
              "      <td>...</td>\n",
              "      <td>...</td>\n",
              "      <td>...</td>\n",
              "      <td>...</td>\n",
              "      <td>...</td>\n",
              "      <td>...</td>\n",
              "    </tr>\n",
              "    <tr>\n",
              "      <th>1265</th>\n",
              "      <td>48991700</td>\n",
              "      <td>0</td>\n",
              "      <td>0</td>\n",
              "      <td>20/05/2021</td>\n",
              "      <td>nio</td>\n",
              "      <td>High-Low</td>\n",
              "      <td>0.869999</td>\n",
              "    </tr>\n",
              "    <tr>\n",
              "      <th>1266</th>\n",
              "      <td>49419300</td>\n",
              "      <td>0</td>\n",
              "      <td>0</td>\n",
              "      <td>21/05/2021</td>\n",
              "      <td>nio</td>\n",
              "      <td>High-Low</td>\n",
              "      <td>0.910000</td>\n",
              "    </tr>\n",
              "    <tr>\n",
              "      <th>1267</th>\n",
              "      <td>67244400</td>\n",
              "      <td>0</td>\n",
              "      <td>0</td>\n",
              "      <td>24/05/2021</td>\n",
              "      <td>nio</td>\n",
              "      <td>High-Low</td>\n",
              "      <td>2.930000</td>\n",
              "    </tr>\n",
              "    <tr>\n",
              "      <th>1268</th>\n",
              "      <td>76545800</td>\n",
              "      <td>0</td>\n",
              "      <td>0</td>\n",
              "      <td>25/05/2021</td>\n",
              "      <td>nio</td>\n",
              "      <td>High-Low</td>\n",
              "      <td>1.950001</td>\n",
              "    </tr>\n",
              "    <tr>\n",
              "      <th>1269</th>\n",
              "      <td>31757357</td>\n",
              "      <td>0</td>\n",
              "      <td>0</td>\n",
              "      <td>26/05/2021</td>\n",
              "      <td>nio</td>\n",
              "      <td>High-Low</td>\n",
              "      <td>1.706600</td>\n",
              "    </tr>\n",
              "  </tbody>\n",
              "</table>\n",
              "<p>1270 rows × 7 columns</p>\n",
              "</div>"
            ],
            "text/plain": [
              "        Volume  Dividends  Stock Splits        Date Ticker  Position     Price\n",
              "0     59847900          0             0  26/05/2020    nio      Open  3.420000\n",
              "1     70718900          0             0  27/05/2020    nio      Open  4.010000\n",
              "2     62756900          0             0  28/05/2020    nio      Open  3.980000\n",
              "3     50303000          0             0  29/05/2020    nio      Open  3.820000\n",
              "4     69222000          0             0  01/06/2020    nio      Open  4.000000\n",
              "...        ...        ...           ...         ...    ...       ...       ...\n",
              "1265  48991700          0             0  20/05/2021    nio  High-Low  0.869999\n",
              "1266  49419300          0             0  21/05/2021    nio  High-Low  0.910000\n",
              "1267  67244400          0             0  24/05/2021    nio  High-Low  2.930000\n",
              "1268  76545800          0             0  25/05/2021    nio  High-Low  1.950001\n",
              "1269  31757357          0             0  26/05/2021    nio  High-Low  1.706600\n",
              "\n",
              "[1270 rows x 7 columns]"
            ]
          },
          "metadata": {
            "tags": []
          },
          "execution_count": 16
        }
      ]
    }
  ]
}